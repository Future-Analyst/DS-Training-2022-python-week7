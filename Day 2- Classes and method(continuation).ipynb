{
 "cells": [
  {
   "cell_type": "code",
   "execution_count": 8,
   "metadata": {},
   "outputs": [],
   "source": [
    "class Vector:\n",
    "    def __init__(this,h,v):\n",
    "        this.x=h\n",
    "        this.y=v"
   ]
  },
  {
   "cell_type": "code",
   "execution_count": 9,
   "metadata": {},
   "outputs": [],
   "source": [
    "t=Vector(6,8)"
   ]
  },
  {
   "cell_type": "code",
   "execution_count": 10,
   "metadata": {},
   "outputs": [
    {
     "data": {
      "text/plain": [
       "6"
      ]
     },
     "execution_count": 10,
     "metadata": {},
     "output_type": "execute_result"
    }
   ],
   "source": [
    "t.x"
   ]
  },
  {
   "cell_type": "code",
   "execution_count": 5,
   "metadata": {},
   "outputs": [],
   "source": [
    "class Vector:\n",
    "    def __init__(this,x,y):\n",
    "        this.x=x\n",
    "        this.y=y"
   ]
  },
  {
   "cell_type": "code",
   "execution_count": 13,
   "metadata": {},
   "outputs": [],
   "source": [
    "v1=Vector(6,3)\n",
    "v2=Vector(10,6)"
   ]
  },
  {
   "cell_type": "code",
   "execution_count": 14,
   "metadata": {},
   "outputs": [
    {
     "data": {
      "text/plain": [
       "6"
      ]
     },
     "execution_count": 14,
     "metadata": {},
     "output_type": "execute_result"
    }
   ],
   "source": [
    "v1.x"
   ]
  },
  {
   "cell_type": "code",
   "execution_count": 15,
   "metadata": {},
   "outputs": [
    {
     "data": {
      "text/plain": [
       "10"
      ]
     },
     "execution_count": 15,
     "metadata": {},
     "output_type": "execute_result"
    }
   ],
   "source": [
    "v2.x"
   ]
  },
  {
   "cell_type": "code",
   "execution_count": 16,
   "metadata": {},
   "outputs": [
    {
     "data": {
      "text/plain": [
       "3"
      ]
     },
     "execution_count": 16,
     "metadata": {},
     "output_type": "execute_result"
    }
   ],
   "source": [
    "v1.y"
   ]
  },
  {
   "cell_type": "code",
   "execution_count": 17,
   "metadata": {},
   "outputs": [
    {
     "data": {
      "text/plain": [
       "6"
      ]
     },
     "execution_count": 17,
     "metadata": {},
     "output_type": "execute_result"
    }
   ],
   "source": [
    "v2.y"
   ]
  },
  {
   "cell_type": "code",
   "execution_count": 18,
   "metadata": {},
   "outputs": [],
   "source": [
    "class Vector:\n",
    "    def __init__(this,x,y):\n",
    "        this.x=x\n",
    "        this.y=y\n",
    "        this.magnitude=(this.x**2+this.y**2)**0.5"
   ]
  },
  {
   "cell_type": "code",
   "execution_count": 19,
   "metadata": {},
   "outputs": [],
   "source": [
    "v1=Vector(6,3)\n",
    "v2=Vector(10,6)"
   ]
  },
  {
   "cell_type": "code",
   "execution_count": 20,
   "metadata": {},
   "outputs": [
    {
     "data": {
      "text/plain": [
       "6"
      ]
     },
     "execution_count": 20,
     "metadata": {},
     "output_type": "execute_result"
    }
   ],
   "source": [
    "v1.x"
   ]
  },
  {
   "cell_type": "code",
   "execution_count": 21,
   "metadata": {},
   "outputs": [
    {
     "data": {
      "text/plain": [
       "3"
      ]
     },
     "execution_count": 21,
     "metadata": {},
     "output_type": "execute_result"
    }
   ],
   "source": [
    "v1.y"
   ]
  },
  {
   "cell_type": "code",
   "execution_count": 22,
   "metadata": {},
   "outputs": [
    {
     "data": {
      "text/plain": [
       "6.708203932499369"
      ]
     },
     "execution_count": 22,
     "metadata": {},
     "output_type": "execute_result"
    }
   ],
   "source": [
    "v1.magnitude"
   ]
  },
  {
   "cell_type": "code",
   "execution_count": 23,
   "metadata": {},
   "outputs": [],
   "source": [
    "v1.x=10"
   ]
  },
  {
   "cell_type": "code",
   "execution_count": 24,
   "metadata": {},
   "outputs": [
    {
     "data": {
      "text/plain": [
       "10"
      ]
     },
     "execution_count": 24,
     "metadata": {},
     "output_type": "execute_result"
    }
   ],
   "source": [
    "v1.x"
   ]
  },
  {
   "cell_type": "code",
   "execution_count": 25,
   "metadata": {},
   "outputs": [
    {
     "data": {
      "text/plain": [
       "3"
      ]
     },
     "execution_count": 25,
     "metadata": {},
     "output_type": "execute_result"
    }
   ],
   "source": [
    "v1.y"
   ]
  },
  {
   "cell_type": "code",
   "execution_count": 26,
   "metadata": {},
   "outputs": [
    {
     "data": {
      "text/plain": [
       "6.708203932499369"
      ]
     },
     "execution_count": 26,
     "metadata": {},
     "output_type": "execute_result"
    }
   ],
   "source": [
    "v1.magnitude"
   ]
  },
  {
   "cell_type": "code",
   "execution_count": 27,
   "metadata": {},
   "outputs": [],
   "source": [
    "class Vector:\n",
    "    def __init__(this,x,y):\n",
    "        this.x=x\n",
    "        this.y=y\n",
    "    \n",
    "    def getMagnitude(this):\n",
    "        return (this.x**2+this.y**2)**0.5"
   ]
  },
  {
   "cell_type": "code",
   "execution_count": 28,
   "metadata": {},
   "outputs": [],
   "source": [
    "v1=Vector(6,3)\n",
    "v2=Vector(10,6)"
   ]
  },
  {
   "cell_type": "code",
   "execution_count": 29,
   "metadata": {},
   "outputs": [
    {
     "data": {
      "text/plain": [
       "6"
      ]
     },
     "execution_count": 29,
     "metadata": {},
     "output_type": "execute_result"
    }
   ],
   "source": [
    "v1.x"
   ]
  },
  {
   "cell_type": "code",
   "execution_count": 30,
   "metadata": {},
   "outputs": [
    {
     "data": {
      "text/plain": [
       "3"
      ]
     },
     "execution_count": 30,
     "metadata": {},
     "output_type": "execute_result"
    }
   ],
   "source": [
    "v1.y"
   ]
  },
  {
   "cell_type": "code",
   "execution_count": 31,
   "metadata": {},
   "outputs": [
    {
     "ename": "AttributeError",
     "evalue": "'Vector' object has no attribute 'magnitude'",
     "output_type": "error",
     "traceback": [
      "\u001b[1;31m---------------------------------------------------------------------------\u001b[0m",
      "\u001b[1;31mAttributeError\u001b[0m                            Traceback (most recent call last)",
      "\u001b[1;32m<ipython-input-31-46632020c6d3>\u001b[0m in \u001b[0;36m<module>\u001b[1;34m\u001b[0m\n\u001b[1;32m----> 1\u001b[1;33m \u001b[0mv1\u001b[0m\u001b[1;33m.\u001b[0m\u001b[0mmagnitude\u001b[0m\u001b[1;33m\u001b[0m\u001b[1;33m\u001b[0m\u001b[0m\n\u001b[0m",
      "\u001b[1;31mAttributeError\u001b[0m: 'Vector' object has no attribute 'magnitude'"
     ]
    }
   ],
   "source": [
    "v1.magnitude"
   ]
  },
  {
   "cell_type": "code",
   "execution_count": 32,
   "metadata": {},
   "outputs": [
    {
     "data": {
      "text/plain": [
       "<bound method Vector.getMagnitude of <__main__.Vector object at 0x000002219678C128>>"
      ]
     },
     "execution_count": 32,
     "metadata": {},
     "output_type": "execute_result"
    }
   ],
   "source": [
    "v1.getMagnitude"
   ]
  },
  {
   "cell_type": "code",
   "execution_count": 33,
   "metadata": {},
   "outputs": [
    {
     "data": {
      "text/plain": [
       "6.708203932499369"
      ]
     },
     "execution_count": 33,
     "metadata": {},
     "output_type": "execute_result"
    }
   ],
   "source": [
    "v1.getMagnitude()"
   ]
  },
  {
   "cell_type": "code",
   "execution_count": 34,
   "metadata": {},
   "outputs": [],
   "source": [
    "v1.x=10"
   ]
  },
  {
   "cell_type": "code",
   "execution_count": 35,
   "metadata": {},
   "outputs": [
    {
     "data": {
      "text/plain": [
       "10.44030650891055"
      ]
     },
     "execution_count": 35,
     "metadata": {},
     "output_type": "execute_result"
    }
   ],
   "source": [
    "v1.getMagnitude()"
   ]
  },
  {
   "cell_type": "code",
   "execution_count": 36,
   "metadata": {},
   "outputs": [],
   "source": [
    "v1.y=20"
   ]
  },
  {
   "cell_type": "code",
   "execution_count": 37,
   "metadata": {},
   "outputs": [
    {
     "data": {
      "text/plain": [
       "22.360679774997898"
      ]
     },
     "execution_count": 37,
     "metadata": {},
     "output_type": "execute_result"
    }
   ],
   "source": [
    "v1.getMagnitude()"
   ]
  },
  {
   "cell_type": "code",
   "execution_count": 38,
   "metadata": {},
   "outputs": [],
   "source": [
    "class BankAccount:\n",
    "    def __init__(self,marital_status,first_name,\n",
    "                 last_name,age,init_dep):\n",
    "        self.first_name=first_name\n",
    "        self.last_name=last_name\n",
    "        self.init_dep=init_dep\n",
    "        self.age=age\n",
    "        self.balance=init_dep\n",
    "    def withdraw(self,amount):\n",
    "        self.balance= self.balance-amount\n",
    "        "
   ]
  },
  {
   "cell_type": "code",
   "execution_count": 39,
   "metadata": {},
   "outputs": [],
   "source": [
    "acct1=BankAccount(\"Single\",\"Smith\",\"Mathew\",51,10e4)"
   ]
  },
  {
   "cell_type": "code",
   "execution_count": 40,
   "metadata": {},
   "outputs": [
    {
     "data": {
      "text/plain": [
       "100000.0"
      ]
     },
     "execution_count": 40,
     "metadata": {},
     "output_type": "execute_result"
    }
   ],
   "source": [
    "acct1.balance"
   ]
  },
  {
   "cell_type": "code",
   "execution_count": 41,
   "metadata": {},
   "outputs": [
    {
     "data": {
      "text/plain": [
       "100000.0"
      ]
     },
     "execution_count": 41,
     "metadata": {},
     "output_type": "execute_result"
    }
   ],
   "source": [
    "acct1.init_dep"
   ]
  },
  {
   "cell_type": "code",
   "execution_count": 42,
   "metadata": {},
   "outputs": [
    {
     "data": {
      "text/plain": [
       "'Smith'"
      ]
     },
     "execution_count": 42,
     "metadata": {},
     "output_type": "execute_result"
    }
   ],
   "source": [
    "acct1.first_name"
   ]
  },
  {
   "cell_type": "code",
   "execution_count": 43,
   "metadata": {},
   "outputs": [],
   "source": [
    "acct1.withdraw(20000)"
   ]
  },
  {
   "cell_type": "code",
   "execution_count": 44,
   "metadata": {},
   "outputs": [
    {
     "data": {
      "text/plain": [
       "100000.0"
      ]
     },
     "execution_count": 44,
     "metadata": {},
     "output_type": "execute_result"
    }
   ],
   "source": [
    "acct1.init_dep"
   ]
  },
  {
   "cell_type": "code",
   "execution_count": 45,
   "metadata": {},
   "outputs": [
    {
     "data": {
      "text/plain": [
       "80000.0"
      ]
     },
     "execution_count": 45,
     "metadata": {},
     "output_type": "execute_result"
    }
   ],
   "source": [
    "acct1.balance"
   ]
  },
  {
   "cell_type": "code",
   "execution_count": 46,
   "metadata": {},
   "outputs": [],
   "source": [
    "class BankAccount:\n",
    "    def __init__(self,marital_status,first_name,\n",
    "                 last_name,age,init_dep):\n",
    "        self.first_name=first_name\n",
    "        self.last_name=last_name\n",
    "        self.init_dep=init_dep\n",
    "        self.age=age\n",
    "        self.balance=init_dep\n",
    "    def withdraw(self,amount):\n",
    "        self.balance= self.balance-amount\n",
    "    def deposit(self,amount):\n",
    "        self.balance= self.balance+amount\n",
    "        "
   ]
  },
  {
   "cell_type": "code",
   "execution_count": 47,
   "metadata": {},
   "outputs": [],
   "source": [
    "acct1=BankAccount(\"Single\",\"Smith\",\"Mathew\",51,10e4)"
   ]
  },
  {
   "cell_type": "code",
   "execution_count": 48,
   "metadata": {},
   "outputs": [
    {
     "data": {
      "text/plain": [
       "100000.0"
      ]
     },
     "execution_count": 48,
     "metadata": {},
     "output_type": "execute_result"
    }
   ],
   "source": [
    "acct1.balance"
   ]
  },
  {
   "cell_type": "code",
   "execution_count": 49,
   "metadata": {},
   "outputs": [],
   "source": [
    "acct1.withdraw(20000)"
   ]
  },
  {
   "cell_type": "code",
   "execution_count": 50,
   "metadata": {},
   "outputs": [
    {
     "data": {
      "text/plain": [
       "80000.0"
      ]
     },
     "execution_count": 50,
     "metadata": {},
     "output_type": "execute_result"
    }
   ],
   "source": [
    "acct1.balance"
   ]
  },
  {
   "cell_type": "code",
   "execution_count": 51,
   "metadata": {},
   "outputs": [],
   "source": [
    "acct1.deposit(100000)"
   ]
  },
  {
   "cell_type": "code",
   "execution_count": 52,
   "metadata": {},
   "outputs": [
    {
     "data": {
      "text/plain": [
       "100000.0"
      ]
     },
     "execution_count": 52,
     "metadata": {},
     "output_type": "execute_result"
    }
   ],
   "source": [
    "acct1.init_dep"
   ]
  },
  {
   "cell_type": "code",
   "execution_count": 53,
   "metadata": {},
   "outputs": [
    {
     "data": {
      "text/plain": [
       "180000.0"
      ]
     },
     "execution_count": 53,
     "metadata": {},
     "output_type": "execute_result"
    }
   ],
   "source": [
    "acct1.balance"
   ]
  },
  {
   "cell_type": "code",
   "execution_count": 57,
   "metadata": {},
   "outputs": [],
   "source": [
    "class BankAccount:\n",
    "    def __init__(self,marital_status,first_name,\n",
    "                 last_name,age,init_dep):\n",
    "        self.first_name=first_name\n",
    "        self.last_name=last_name\n",
    "        self.init_dep=init_dep\n",
    "        self.age=age\n",
    "        self.balance=init_dep\n",
    "        self.acct_type=\"Saving\"\n",
    "    def withdraw(self,amount):\n",
    "        self.balance= self.balance-amount\n",
    "        \n",
    "    def deposit(self,amount):\n",
    "        self.balance= self.balance+amount\n",
    "        \n",
    "    def changeAcctTyp(self,acct_type):\n",
    "        self.acct_type=acct_type\n",
    "        "
   ]
  },
  {
   "cell_type": "code",
   "execution_count": 58,
   "metadata": {},
   "outputs": [],
   "source": [
    "acct1=BankAccount(\"Single\",\"Smith\",\"Mathew\",51,10e4)"
   ]
  },
  {
   "cell_type": "code",
   "execution_count": 59,
   "metadata": {},
   "outputs": [
    {
     "data": {
      "text/plain": [
       "'Saving'"
      ]
     },
     "execution_count": 59,
     "metadata": {},
     "output_type": "execute_result"
    }
   ],
   "source": [
    "acct1.acct_type"
   ]
  },
  {
   "cell_type": "code",
   "execution_count": 60,
   "metadata": {},
   "outputs": [],
   "source": [
    "acct1.changeAcctTyp(\"Super Savings\")"
   ]
  },
  {
   "cell_type": "code",
   "execution_count": 61,
   "metadata": {},
   "outputs": [
    {
     "data": {
      "text/plain": [
       "'Super Savings'"
      ]
     },
     "execution_count": 61,
     "metadata": {},
     "output_type": "execute_result"
    }
   ],
   "source": [
    "acct1.acct_type"
   ]
  },
  {
   "cell_type": "code",
   "execution_count": 69,
   "metadata": {},
   "outputs": [],
   "source": [
    "class BankAccount:\n",
    "    def __init__(self,marital_status,first_name,\n",
    "                 last_name,age,init_dep):\n",
    "        self.first_name=first_name\n",
    "        self.last_name=last_name\n",
    "        self.init_dep=init_dep\n",
    "        self.age=age\n",
    "        self.balance=init_dep\n",
    "        self.acct_type=\"Saving\"\n",
    "    def withdraw(self,amount):\n",
    "        if (amount>self.balance-1000):\n",
    "            print(f\"Insufficient fund:\\nYou can withdraw from 50-{self.balance-1000}\")\n",
    "        else:\n",
    "            self.balance= self.balance-amount\n",
    "        \n",
    "    def deposit(self,amount):\n",
    "        self.balance= self.balance+amount\n",
    "        \n",
    "    def changeAcctTyp(self,acct_type):\n",
    "        self.acct_type=acct_type\n",
    "        "
   ]
  },
  {
   "cell_type": "code",
   "execution_count": 70,
   "metadata": {},
   "outputs": [],
   "source": [
    "acct1=BankAccount(\"Single\",\"Smith\",\"Mathew\",51,10e4)"
   ]
  },
  {
   "cell_type": "code",
   "execution_count": 71,
   "metadata": {},
   "outputs": [
    {
     "data": {
      "text/plain": [
       "100000.0"
      ]
     },
     "execution_count": 71,
     "metadata": {},
     "output_type": "execute_result"
    }
   ],
   "source": [
    "acct1.balance"
   ]
  },
  {
   "cell_type": "code",
   "execution_count": 72,
   "metadata": {},
   "outputs": [],
   "source": [
    "acct1.withdraw(80000)"
   ]
  },
  {
   "cell_type": "code",
   "execution_count": 73,
   "metadata": {},
   "outputs": [
    {
     "data": {
      "text/plain": [
       "20000.0"
      ]
     },
     "execution_count": 73,
     "metadata": {},
     "output_type": "execute_result"
    }
   ],
   "source": [
    "acct1.balance"
   ]
  },
  {
   "cell_type": "code",
   "execution_count": 74,
   "metadata": {},
   "outputs": [
    {
     "name": "stdout",
     "output_type": "stream",
     "text": [
      "Insufficient fund:\n",
      "You can withdraw from 50-19000.0\n"
     ]
    }
   ],
   "source": [
    "acct1.withdraw(30000)"
   ]
  },
  {
   "cell_type": "code",
   "execution_count": 75,
   "metadata": {},
   "outputs": [
    {
     "name": "stdout",
     "output_type": "stream",
     "text": [
      "Insufficient fund:\n",
      "You can withdraw from 50-19000.0\n"
     ]
    }
   ],
   "source": [
    "acct1.withdraw(20000)"
   ]
  },
  {
   "cell_type": "code",
   "execution_count": 76,
   "metadata": {},
   "outputs": [],
   "source": [
    "acct1.withdraw(19000)"
   ]
  },
  {
   "cell_type": "code",
   "execution_count": 77,
   "metadata": {},
   "outputs": [
    {
     "data": {
      "text/plain": [
       "1000.0"
      ]
     },
     "execution_count": 77,
     "metadata": {},
     "output_type": "execute_result"
    }
   ],
   "source": [
    "acct1.balance"
   ]
  },
  {
   "cell_type": "code",
   "execution_count": 78,
   "metadata": {},
   "outputs": [
    {
     "name": "stdout",
     "output_type": "stream",
     "text": [
      "Insufficient fund:\n",
      "You can withdraw from 50-0.0\n"
     ]
    }
   ],
   "source": [
    "acct1.withdraw(50)"
   ]
  },
  {
   "cell_type": "code",
   "execution_count": 82,
   "metadata": {},
   "outputs": [],
   "source": [
    "class BankAccount:\n",
    "    def __init__(self,marital_status,first_name,\n",
    "                 last_name,age,init_dep):\n",
    "        self.first_name=first_name\n",
    "        self.last_name=last_name\n",
    "        self.init_dep=init_dep\n",
    "        self.age=age\n",
    "        self.balance=init_dep\n",
    "        self.acct_type=\"Saving\"\n",
    "    def withdraw(self,amount):\n",
    "        if self.balance<=1000:\n",
    "            print(\"You are empty\")\n",
    "        elif (amount>self.balance-1000):\n",
    "            print(f\"Insufficient fund:\\nYou can withdraw from 50-{self.balance-1000}\")\n",
    "        else:\n",
    "            self.balance= self.balance-amount\n",
    "        \n",
    "    def deposit(self,amount):\n",
    "        self.balance= self.balance+amount\n",
    "        \n",
    "    def changeAcctTyp(self,acct_type):\n",
    "        self.acct_type=acct_type\n",
    "        "
   ]
  },
  {
   "cell_type": "code",
   "execution_count": 91,
   "metadata": {},
   "outputs": [],
   "source": [
    "acct1=BankAccount(\"Single\",\"Smith\",\"Mathew\",51,10e4)"
   ]
  },
  {
   "cell_type": "code",
   "execution_count": 84,
   "metadata": {},
   "outputs": [],
   "source": [
    "acct1.withdraw(90000)"
   ]
  },
  {
   "cell_type": "code",
   "execution_count": 92,
   "metadata": {},
   "outputs": [],
   "source": [
    "acct1.withdraw(10)"
   ]
  },
  {
   "cell_type": "code",
   "execution_count": 93,
   "metadata": {},
   "outputs": [
    {
     "data": {
      "text/plain": [
       "99990.0"
      ]
     },
     "execution_count": 93,
     "metadata": {},
     "output_type": "execute_result"
    }
   ],
   "source": [
    "acct1.balance"
   ]
  },
  {
   "cell_type": "code",
   "execution_count": 87,
   "metadata": {},
   "outputs": [],
   "source": [
    "acct1.withdraw(8000)"
   ]
  },
  {
   "cell_type": "code",
   "execution_count": 90,
   "metadata": {},
   "outputs": [
    {
     "name": "stdout",
     "output_type": "stream",
     "text": [
      "You are empty\n"
     ]
    }
   ],
   "source": [
    "acct1.withdraw(50)"
   ]
  },
  {
   "cell_type": "code",
   "execution_count": 94,
   "metadata": {},
   "outputs": [],
   "source": [
    "from random import randint\n",
    "class BankAccount:\n",
    "    def __init__(self,marital_status,first_name,\n",
    "                 last_name,age,init_dep):\n",
    "        self.first_name=first_name\n",
    "        self.last_name=last_name\n",
    "        self.init_dep=init_dep\n",
    "        self.age=age\n",
    "        self.balance=init_dep\n",
    "        self.acct_type=\"Saving\"\n",
    "        self.acct_number=\"61\"\n",
    "        for i in range(8):\n",
    "            self.acct_number+=str(randint(0,9))\n",
    "        \n",
    "    def withdraw(self,amount):\n",
    "        if self.balance<=1000:\n",
    "            print(\"You are empty\")\n",
    "        elif (amount>self.balance-1000):\n",
    "            print(f\"Insufficient fund:\\nYou can withdraw from 50-{self.balance-1000}\")\n",
    "        else:\n",
    "            self.balance= self.balance-amount\n",
    "        \n",
    "    def deposit(self,amount):\n",
    "        self.balance= self.balance+amount\n",
    "        \n",
    "    def changeAcctTyp(self,acct_type):\n",
    "        self.acct_type=acct_type\n",
    "        "
   ]
  },
  {
   "cell_type": "code",
   "execution_count": 95,
   "metadata": {},
   "outputs": [],
   "source": [
    "acct1=BankAccount(\"Single\",\"Smith\",\"Mathew\",51,10e4)"
   ]
  },
  {
   "cell_type": "code",
   "execution_count": 96,
   "metadata": {},
   "outputs": [
    {
     "data": {
      "text/plain": [
       "'6103209731'"
      ]
     },
     "execution_count": 96,
     "metadata": {},
     "output_type": "execute_result"
    }
   ],
   "source": [
    "acct1.acct_number"
   ]
  },
  {
   "cell_type": "code",
   "execution_count": 97,
   "metadata": {},
   "outputs": [],
   "source": [
    "acct2=BankAccount(\"Married\",\"Gozie\",\"John\",42,10e6)"
   ]
  },
  {
   "cell_type": "code",
   "execution_count": 98,
   "metadata": {},
   "outputs": [
    {
     "data": {
      "text/plain": [
       "10000000.0"
      ]
     },
     "execution_count": 98,
     "metadata": {},
     "output_type": "execute_result"
    }
   ],
   "source": [
    "acct2.balance"
   ]
  },
  {
   "cell_type": "code",
   "execution_count": 99,
   "metadata": {},
   "outputs": [
    {
     "data": {
      "text/plain": [
       "'6111186321'"
      ]
     },
     "execution_count": 99,
     "metadata": {},
     "output_type": "execute_result"
    }
   ],
   "source": [
    "acct2.acct_number"
   ]
  },
  {
   "cell_type": "code",
   "execution_count": 102,
   "metadata": {},
   "outputs": [],
   "source": [
    "from random import randint\n",
    "class BankAccount:\n",
    "    def __init__(self,marital_status,first_name,\n",
    "                 last_name,age,init_dep):\n",
    "        self.first_name=first_name\n",
    "        self.last_name=last_name\n",
    "        self.init_dep=init_dep\n",
    "        self.age=age\n",
    "        self.balance=init_dep\n",
    "        self.acct_type=\"Saving\"\n",
    "        self.acct_number=\"61\"\n",
    "        for i in range(8):\n",
    "            self.acct_number+=str(randint(0,9))\n",
    "        with open(\"bank_new.txt\", \"a\") as file:\n",
    "            \n",
    "            file.write(f\"{self.last_name},{self.first_name},{self.acct_number}\\n\")\n",
    "        \n",
    "    def withdraw(self,amount):\n",
    "        if self.balance<=1000:\n",
    "            print(\"You are empty\")\n",
    "        elif (amount>self.balance-1000):\n",
    "            print(f\"Insufficient fund:\\nYou can withdraw from 50-{self.balance-1000}\")\n",
    "        else:\n",
    "            self.balance= self.balance-amount\n",
    "        \n",
    "    def deposit(self,amount):\n",
    "        self.balance= self.balance+amount\n",
    "        \n",
    "    def changeAcctTyp(self,acct_type):\n",
    "        self.acct_type=acct_type\n",
    "        "
   ]
  },
  {
   "cell_type": "code",
   "execution_count": 103,
   "metadata": {},
   "outputs": [],
   "source": [
    "acct1=BankAccount(\"Married\",\"Gozie\",\"John\",42,10e6)"
   ]
  },
  {
   "cell_type": "code",
   "execution_count": 104,
   "metadata": {},
   "outputs": [],
   "source": [
    "acct2=BankAccount(\"Married\",\"Mathew\",\"King\",42,10e8)"
   ]
  },
  {
   "cell_type": "code",
   "execution_count": 124,
   "metadata": {},
   "outputs": [],
   "source": [
    "from random import randint\n",
    "class BankAccount:\n",
    "    def __init__(self,marital_status,first_name,\n",
    "                 last_name,age,init_dep):\n",
    "        self.first_name=first_name\n",
    "        self.last_name=last_name\n",
    "        self.init_dep=init_dep\n",
    "        self.age=age\n",
    "        self.balance=init_dep\n",
    "        self.acct_type=\"Saving\"\n",
    "        self.acct_number=\"61\"\n",
    "#         for i in range(8):\n",
    "#             self.acct_number+=str(randint(0,9))\n",
    "        \n",
    "        \n",
    "        try:\n",
    "            with open(\"bank_new1.txt\", \"r\") as file:\n",
    "                content=file.readlines()\n",
    "                for line in content:\n",
    "                    if self.acct_number==line.strip().split(\",\")[-1]:\n",
    "                        print(\"Account exists\")\n",
    "                else:\n",
    "                    with open(\"bank_new1.txt\", \"a\") as file1:\n",
    "                        file1.write(f\"{self.last_name},{self.first_name},{self.acct_number}\\n\")\n",
    "        except FileNotFoundError:\n",
    "            file=open(\"bank_new1.txt\", \"w\")\n",
    "            file.close()\n",
    "            \n",
    "    def withdraw(self,amount):\n",
    "        if self.balance<=1000:\n",
    "            print(\"You are empty\")\n",
    "        elif (amount>self.balance-1000):\n",
    "            print(f\"Insufficient fund:\\nYou can withdraw from 50-{self.balance-1000}\")\n",
    "        else:\n",
    "            self.balance= self.balance-amount\n",
    "        \n",
    "    def deposit(self,amount):\n",
    "        self.balance= self.balance+amount\n",
    "        \n",
    "    def changeAcctTyp(self,acct_type):\n",
    "        self.acct_type=acct_type\n",
    "        "
   ]
  },
  {
   "cell_type": "code",
   "execution_count": 126,
   "metadata": {},
   "outputs": [
    {
     "name": "stdout",
     "output_type": "stream",
     "text": [
      "Account exists\n"
     ]
    }
   ],
   "source": [
    "acct1=BankAccount(\"Married\",\"Gozie\",\"John\",42,10e6)"
   ]
  },
  {
   "cell_type": "code",
   "execution_count": 128,
   "metadata": {},
   "outputs": [],
   "source": [
    "class Quadratic:\n",
    "    def __init__(self,a=1,b=0,c=0):\n",
    "        self.a=a\n",
    "        self.b=b\n",
    "        self.c=c\n",
    "    \n",
    "    def getDiscr(self):\n",
    "        return self.b**2-4*self.a*self.c\n",
    "\n",
    "    \n",
    "    def getRoots(self):\n",
    "        self.x1=(-self.b+(self.getDiscr())**0.5)/(2*self.a)\n",
    "        self.x2=(-self.b-(self.getDiscr())**0.5)/(2*self.a)\n",
    "        return (self.x1,self.x2)"
   ]
  },
  {
   "cell_type": "code",
   "execution_count": 129,
   "metadata": {},
   "outputs": [],
   "source": [
    "q1=Quadratic(1,5,6)"
   ]
  },
  {
   "cell_type": "code",
   "execution_count": 130,
   "metadata": {},
   "outputs": [
    {
     "data": {
      "text/plain": [
       "1"
      ]
     },
     "execution_count": 130,
     "metadata": {},
     "output_type": "execute_result"
    }
   ],
   "source": [
    "q1.getDiscr()"
   ]
  },
  {
   "cell_type": "code",
   "execution_count": 131,
   "metadata": {},
   "outputs": [
    {
     "data": {
      "text/plain": [
       "(-2.0, -3.0)"
      ]
     },
     "execution_count": 131,
     "metadata": {},
     "output_type": "execute_result"
    }
   ],
   "source": [
    "q1.getRoots()"
   ]
  },
  {
   "cell_type": "code",
   "execution_count": null,
   "metadata": {},
   "outputs": [],
   "source": []
  }
 ],
 "metadata": {
  "kernelspec": {
   "display_name": "Python 3 (ipykernel)",
   "language": "python",
   "name": "python3"
  },
  "language_info": {
   "codemirror_mode": {
    "name": "ipython",
    "version": 3
   },
   "file_extension": ".py",
   "mimetype": "text/x-python",
   "name": "python",
   "nbconvert_exporter": "python",
   "pygments_lexer": "ipython3",
   "version": "3.9.12"
  }
 },
 "nbformat": 4,
 "nbformat_minor": 2
}
