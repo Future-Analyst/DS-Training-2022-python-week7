{
 "cells": [
  {
   "cell_type": "code",
   "execution_count": null,
   "metadata": {},
   "outputs": [],
   "source": [
    "from datetime import datetime\n",
    "\n",
    "from tkinter import *\n",
    "from tkinter import ttk\n",
    "from tkinter import messagebox\n",
    "\n",
    "def registerUser():\n",
    "    username=usernameVar.get()\n",
    "    password=hash(passwordVar.get())\n",
    "    confirnPass=hash(conPasswordVar.get())\n",
    "    phone=phoneVar.get()\n",
    "    if password!=confirnPass:\n",
    "        messagebox.showerror(\"Password Error!\",\"Passwrd and confirm Password must match!!\")\n",
    "        print(\"Passwrd and confirm Password must match!!\")\n",
    "    else:\n",
    "        with open(\"../week 6/users.txt\",\"r\") as file1:\n",
    "            myUsers=file1.readlines()\n",
    "        print(myUsers)\n",
    "        for user in myUsers:\n",
    "            myUsername=user.split(\",\")[0]\n",
    "            if myUsername==username:\n",
    "                messagebox.showerror(\"Duplicate\",\"Username already Exists\")\n",
    "                return \n",
    "        \n",
    "        file = open(\"../week 6/users.txt\",\"a\")\n",
    "        date=datetime.now()\n",
    "        content=f\"{username},{password},{phone},{date}\\n\"\n",
    "        file.write(content)\n",
    "        file.close()\n",
    "        messagebox.showinfo(\"Success\",\"Your account has been created!\")\n",
    "\n",
    "\n",
    "def createAccount():\n",
    "    global passwordVar,conPasswordVar,usernameVar,phoneVar\n",
    "    new_window1=Toplevel()\n",
    "    new_window1.geometry(f\"{screen_width}x{screen_height}\")\n",
    "    lb1=LabelFrame(new_window1,text=\"Create Account\",bd=12,relief=\"ridge\")\n",
    "    lb1.pack()\n",
    "\n",
    "    Label(lb1,text=\"Username\").grid(row=1,column=1)\n",
    "    usernameVar=StringVar()\n",
    "    Entry(lb1,textvariable=usernameVar).grid(row=1,column=2)\n",
    "\n",
    "    Label(lb1,text=\"Password\").grid(row=2,column=1)\n",
    "    passwordVar=StringVar()\n",
    "    Entry(lb1,textvariable=passwordVar,show=\"*\").grid(row=2,column=2)\n",
    "    \n",
    "    Label(lb1,text=\"Confirm Password\").grid(row=3,column=1)\n",
    "    conPasswordVar=StringVar()\n",
    "    Entry(lb1,textvariable=conPasswordVar,show=\"*\").grid(row=3,column=2)\n",
    "    \n",
    "    Label(lb1,text=\"Phone\").grid(row=4,column=1)\n",
    "    phoneVar=StringVar()\n",
    "    Entry(lb1,textvariable=phoneVar).grid(row=4,column=2)\n",
    "\n",
    "    ttk.Button(lb1,\n",
    "               text=\"Create Account\",\n",
    "               command=registerUser).grid(row=5,column=1,columnspan=2)\n",
    "\n",
    "    Label(lb1,text=\"Have an account?\").grid(row=6,column=1)\n",
    "    ttk.Button(lb1,text=\"Login\",\n",
    "               command=createAccount\n",
    "              ).grid(row=6,column=2)\n",
    "\n",
    "    \n",
    "def seeUsers():\n",
    "    with open(\"../week 6/users.txt\") as file:\n",
    "        content= file.readlines()\n",
    "    for line in content:\n",
    "        text.insert(\"end\",line)\n",
    "def dashboard():\n",
    "    global text\n",
    "    myDash= Toplevel()\n",
    "    for i,item in  enumerate([\"See Users\",\"Add Item\",\"Make Sales\"]):\n",
    "        if i<2:\n",
    "            Button(myDash,text=item,command=seeUsers).grid(row=1,column=i+1)\n",
    "        else:\n",
    "            Button(myDash,text=item).grid(row=2,column=1,columnspan=2)\n",
    "    text=Text(myDash) \n",
    "    text.grid(row=3,column=1,columnspan=2)\n",
    "def logUser():\n",
    "    username = usernameLog.get()\n",
    "    password = passwordLog.get()\n",
    "    print(password)\n",
    "    print(hash(password))\n",
    "    with open(\"../week 6/users.txt\") as file:\n",
    "        content= file.readlines()\n",
    "    for user in content:\n",
    "        user_list= user.strip().split(\",\")\n",
    "        if username==user_list[0] and str(hash(password))==user_list[1]:\n",
    "            print(\"found\")\n",
    "\n",
    "            messagebox.showinfo(\"Login\",\"Success\")\n",
    "            print(\"correct\")\n",
    "            dashboard()\n",
    "            return\n",
    "             \n",
    "    else:\n",
    "        messagebox.showerror(\"Error\",\"Invalid username or password\")\n",
    "\n",
    "    \n",
    "\n",
    "    \n",
    "    \n",
    "master = Tk()\n",
    "screen_width = master.winfo_screenwidth()\n",
    "screen_height = master.winfo_screenheight()\n",
    "master.geometry(f\"{screen_width}x{screen_height}\")\n",
    "Label(master,text=\"Point Of Sale\",\n",
    "      font=\"courier 30 bold\",\n",
    "      bd=7,relief=\"raised\").pack(ipady=6,ipadx=6)\n",
    "\n",
    "lb=LabelFrame(master,text=\"Login\",bd=12,relief=\"ridge\")\n",
    "lb.pack()\n",
    "\n",
    "usernameLog=StringVar()\n",
    "Label(lb,text=\"Username\").grid(row=1,column=1)\n",
    "\n",
    "Entry(lb,textvariable=usernameLog).grid(row=1,column=2)\n",
    "\n",
    "Label(lb,text=\"Password\").grid(row=2,column=1)\n",
    "passwordLog=StringVar()\n",
    "Entry(lb,textvariable=passwordLog).grid(row=2,column=2)\n",
    "\n",
    "ttk.Button(lb,text=\"Login\",command=logUser).grid(row=3,column=1,columnspan=2)\n",
    "\n",
    "\n",
    "ttk.Button(lb,text=\"Forgot Password\").grid(row=4,column=1,columnspan=2)\n",
    "\n",
    "\n",
    "Label(lb,text=\"Don't have an account?\").grid(row=5,column=1)\n",
    "ttk.Button(lb,text=\"Create Account\",\n",
    "           command=createAccount\n",
    "          ).grid(row=5,column=2)\n",
    "\n",
    "\n",
    "\n",
    "\n",
    "master.mainloop()\n"
   ]
  },
  {
   "cell_type": "markdown",
   "metadata": {},
   "source": [
    "## Hasshing Using Hashlib"
   ]
  },
  {
   "cell_type": "code",
   "execution_count": null,
   "metadata": {},
   "outputs": [],
   "source": [
    "hash(\"Paul\")"
   ]
  },
  {
   "cell_type": "code",
   "execution_count": null,
   "metadata": {},
   "outputs": [],
   "source": [
    "import hashlib"
   ]
  },
  {
   "cell_type": "code",
   "execution_count": null,
   "metadata": {},
   "outputs": [],
   "source": [
    "password = \"Paul\"\n",
    "password_encoded=password.encode()"
   ]
  },
  {
   "cell_type": "code",
   "execution_count": null,
   "metadata": {},
   "outputs": [],
   "source": [
    "hashed_password=hashlib.sha256(password_encoded)"
   ]
  },
  {
   "cell_type": "code",
   "execution_count": null,
   "metadata": {},
   "outputs": [],
   "source": [
    "hashed_password"
   ]
  },
  {
   "cell_type": "code",
   "execution_count": null,
   "metadata": {},
   "outputs": [],
   "source": [
    "hashed_password.digest()"
   ]
  },
  {
   "cell_type": "code",
   "execution_count": null,
   "metadata": {},
   "outputs": [],
   "source": [
    "password = \"Peter\"\n",
    "password_encoded=password.encode()\n",
    "hashed_password=hashlib.sha256(password_encoded)\n",
    "print(hashed_password.digest())"
   ]
  },
  {
   "cell_type": "markdown",
   "metadata": {},
   "source": [
    "## Hashing Using Bcrypyt "
   ]
  },
  {
   "cell_type": "code",
   "execution_count": null,
   "metadata": {},
   "outputs": [],
   "source": [
    "import bcrypt\n",
    "\n",
    "passwd = \"Paul\".encode()\n",
    "\n",
    "salt = bcrypt.gensalt()\n",
    "hashed = bcrypt.hashpw(passwd, salt)\n",
    "\n",
    "print(salt)\n",
    "print(hashed)"
   ]
  },
  {
   "cell_type": "code",
   "execution_count": null,
   "metadata": {},
   "outputs": [],
   "source": [
    "!conda install bcrypt"
   ]
  },
  {
   "cell_type": "code",
   "execution_count": 16,
   "metadata": {},
   "outputs": [
    {
     "name": "stdout",
     "output_type": "stream",
     "text": [
      "dandan\n",
      "b'\\xb8\\xb6?G\\x7f(\\xfd/\\xc7\\xd3\\x93\\\\\\xd0\\x8f\\x95G<\\xbf\\x96^%\\x92\"h\\x9f\\xa5\\xef\\x12\\r<\\xfd\\x9e'\n",
      "Smith\n",
      "Mathew\n",
      "\n",
      "Godwin\n",
      "Paul\n",
      "Sophia\n",
      "DanDan\n",
      "found\n",
      "correct\n"
     ]
    }
   ],
   "source": [
    "from datetime import datetime\n",
    "\n",
    "from tkinter import *\n",
    "from tkinter import ttk\n",
    "from tkinter import messagebox\n",
    "import hashlib\n",
    "\n",
    "def registerUser():\n",
    "    username=usernameVar.get()\n",
    "    password=passwordVar.get()\n",
    "    confirnPass=conPasswordVar.get()\n",
    "    phone=phoneVar.get()\n",
    "    if password!=confirnPass:\n",
    "        messagebox.showerror(\"Password Error!\",\"Passwrd and confirm Password must match!!\")\n",
    "        print(\"Passwrd and confirm Password must match!!\")\n",
    "    else:\n",
    "        password=hashlib.sha256(passwordVar.get().encode()).digest()\n",
    "        with open(\"../week 6/users.txt\",\"r\") as file1:\n",
    "            myUsers=file1.readlines()\n",
    "        print(myUsers)\n",
    "        for user in myUsers:\n",
    "            myUsername=user.split(\",\")[0]\n",
    "            if myUsername==username:\n",
    "                messagebox.showerror(\"Duplicate\",\"Username already Exists\")\n",
    "                return \n",
    "        \n",
    "        file = open(\"../week 6/users.txt\",\"a\")\n",
    "        date=datetime.now()\n",
    "        content=f\"{username},{password},{phone},{date}\\n\"\n",
    "        file.write(content)\n",
    "        file.close()\n",
    "        messagebox.showinfo(\"Success\",\"Your account has been created!\")\n",
    "\n",
    "\n",
    "def createAccount():\n",
    "    global passwordVar,conPasswordVar,usernameVar,phoneVar\n",
    "    new_window1=Toplevel()\n",
    "    new_window1.geometry(f\"{screen_width}x{screen_height}\")\n",
    "    lb1=LabelFrame(new_window1,text=\"Create Account\",bd=12,relief=\"ridge\")\n",
    "    lb1.pack()\n",
    "\n",
    "    Label(lb1,text=\"Username\").grid(row=1,column=1)\n",
    "    usernameVar=StringVar()\n",
    "    Entry(lb1,textvariable=usernameVar).grid(row=1,column=2)\n",
    "\n",
    "    Label(lb1,text=\"Password\").grid(row=2,column=1)\n",
    "    passwordVar=StringVar()\n",
    "    Entry(lb1,textvariable=passwordVar,show=\"*\").grid(row=2,column=2)\n",
    "    \n",
    "    Label(lb1,text=\"Confirm Password\").grid(row=3,column=1)\n",
    "    conPasswordVar=StringVar()\n",
    "    Entry(lb1,textvariable=conPasswordVar,show=\"*\").grid(row=3,column=2)\n",
    "    \n",
    "    Label(lb1,text=\"Phone\").grid(row=4,column=1)\n",
    "    phoneVar=StringVar()\n",
    "    Entry(lb1,textvariable=phoneVar).grid(row=4,column=2)\n",
    "\n",
    "    ttk.Button(lb1,\n",
    "               text=\"Create Account\",\n",
    "               command=registerUser).grid(row=5,column=1,columnspan=2)\n",
    "\n",
    "    Label(lb1,text=\"Have an account?\").grid(row=6,column=1)\n",
    "    ttk.Button(lb1,text=\"Login\",\n",
    "               command=createAccount\n",
    "              ).grid(row=6,column=2)\n",
    "\n",
    "    \n",
    "def seeUsers():\n",
    "    with open(\"../week 6/users.txt\") as file:\n",
    "        content= file.readlines()\n",
    "    for line in content:\n",
    "        text.insert(\"end\",line)\n",
    "def dashboard():\n",
    "    global text\n",
    "    myDash= Toplevel()\n",
    "    for i,item in  enumerate([\"See Users\",\"Add Item\",\"Make Sales\"]):\n",
    "        if i<2:\n",
    "            Button(myDash,text=item,command=seeUsers).grid(row=1,column=i+1)\n",
    "        else:\n",
    "            Button(myDash,text=item).grid(row=2,column=1,columnspan=2)\n",
    "    text=Text(myDash) \n",
    "    text.grid(row=3,column=1,columnspan=2)\n",
    "def logUser():\n",
    "    username = usernameLog.get()\n",
    "    password = passwordLog.get()\n",
    "    print(password)\n",
    "    print(hashlib.sha256(password.encode()).digest())\n",
    "    with open(\"../week 6/users.txt\") as file:\n",
    "        content= file.readlines()\n",
    "    for user in content:\n",
    "        user_list= user.strip().split(\",\")\n",
    "        print(user_list[0])\n",
    "        if username==user_list[0] and hashlib.sha256(password.encode()).digest()==user_list[1]:\n",
    "            print(\"found\")\n",
    "\n",
    "            messagebox.showinfo(\"Login\",\"Success\")\n",
    "            print(\"correct\")\n",
    "            dashboard()\n",
    "            return\n",
    "             \n",
    "    else:\n",
    "        messagebox.showerror(\"Error\",\"Invalid username or password\")\n",
    "\n",
    "    \n",
    "\n",
    "    \n",
    "    \n",
    "master = Tk()\n",
    "screen_width = master.winfo_screenwidth()\n",
    "screen_height = master.winfo_screenheight()\n",
    "master.geometry(f\"{screen_width}x{screen_height}\")\n",
    "Label(master,text=\"Point Of Sale\",\n",
    "      font=\"courier 30 bold\",\n",
    "      bd=7,relief=\"raised\").pack(ipady=6,ipadx=6)\n",
    "\n",
    "lb=LabelFrame(master,text=\"Login\",bd=12,relief=\"ridge\")\n",
    "lb.pack()\n",
    "\n",
    "usernameLog=StringVar()\n",
    "Label(lb,text=\"Username\").grid(row=1,column=1)\n",
    "\n",
    "Entry(lb,textvariable=usernameLog).grid(row=1,column=2)\n",
    "\n",
    "Label(lb,text=\"Password\").grid(row=2,column=1)\n",
    "passwordLog=StringVar()\n",
    "Entry(lb,textvariable=passwordLog).grid(row=2,column=2)\n",
    "\n",
    "ttk.Button(lb,text=\"Login\",command=logUser).grid(row=3,column=1,columnspan=2)\n",
    "\n",
    "\n",
    "ttk.Button(lb,text=\"Forgot Password\").grid(row=4,column=1,columnspan=2)\n",
    "\n",
    "\n",
    "Label(lb,text=\"Don't have an account?\").grid(row=5,column=1)\n",
    "ttk.Button(lb,text=\"Create Account\",\n",
    "           command=createAccount\n",
    "          ).grid(row=5,column=2)\n",
    "\n",
    "\n",
    "\n",
    "\n",
    "master.mainloop()\n"
   ]
  },
  {
   "cell_type": "markdown",
   "metadata": {},
   "source": [
    "'\\xb8\\xb6?G\\x7f(\\xfd/\\xc7\\xd3\\x93\\\\\\xd0\\x8f\\x95G<\\xbf\\x96^%\\x92\"h\\x9f\\xa5\\xef\\x12\\r<\\xfd\\x9e"
   ]
  },
  {
   "cell_type": "code",
   "execution_count": 4,
   "metadata": {},
   "outputs": [
    {
     "data": {
      "text/plain": [
       "b'\\xb8\\xb6?G\\x7f(\\xfd/\\xc7\\xd3\\x93\\\\\\xd0\\x8f\\x95G<\\xbf\\x96^%\\x92\"h\\x9f\\xa5\\xef\\x12\\r<\\xfd\\x9e'"
      ]
     },
     "execution_count": 4,
     "metadata": {},
     "output_type": "execute_result"
    }
   ],
   "source": [
    "hashlib.sha256(\"dandan\".encode()).digest()"
   ]
  },
  {
   "cell_type": "code",
   "execution_count": 8,
   "metadata": {},
   "outputs": [
    {
     "data": {
      "text/plain": [
       "b'\\xb8\\xb6?G\\x7f(\\xfd/\\xc7\\xd3\\x93\\\\\\xd0\\x8f\\x95G<\\xbf\\x96^%\\x92\"h\\x9f\\xa5\\xef\\x12\\r<\\xfd\\x9e'"
      ]
     },
     "execution_count": 8,
     "metadata": {},
     "output_type": "execute_result"
    }
   ],
   "source": [
    "b'\\xb8\\xb6?G\\x7f(\\xfd/\\xc7\\xd3\\x93\\\\\\xd0\\x8f\\x95G<\\xbf\\x96^%\\x92\"h\\x9f\\xa5\\xef\\x12\\r<\\xfd\\x9e'"
   ]
  },
  {
   "cell_type": "code",
   "execution_count": 9,
   "metadata": {},
   "outputs": [
    {
     "data": {
      "text/plain": [
       "True"
      ]
     },
     "execution_count": 9,
     "metadata": {},
     "output_type": "execute_result"
    }
   ],
   "source": [
    "b'123jff'==b'123jff'"
   ]
  },
  {
   "cell_type": "code",
   "execution_count": 10,
   "metadata": {},
   "outputs": [
    {
     "data": {
      "text/plain": [
       "bytes"
      ]
     },
     "execution_count": 10,
     "metadata": {},
     "output_type": "execute_result"
    }
   ],
   "source": [
    "type(b'123jff')"
   ]
  },
  {
   "cell_type": "code",
   "execution_count": 11,
   "metadata": {},
   "outputs": [
    {
     "data": {
      "text/plain": [
       "b'\\xb8\\xb6?G\\x7f(\\xfd/\\xc7\\xd3\\x93\\\\\\xd0\\x8f\\x95G<\\xbf\\x96^%\\x92\"h\\x9f\\xa5\\xef\\x12\\r<\\xfd\\x9e'"
      ]
     },
     "execution_count": 11,
     "metadata": {},
     "output_type": "execute_result"
    }
   ],
   "source": [
    "b'\\xb8\\xb6?G\\x7f(\\xfd/\\xc7\\xd3\\x93\\\\\\xd0\\x8f\\x95G<\\xbf\\x96^%\\x92\"h\\x9f\\xa5\\xef\\x12\\r<\\xfd\\x9e'"
   ]
  },
  {
   "cell_type": "code",
   "execution_count": 12,
   "metadata": {},
   "outputs": [
    {
     "data": {
      "text/plain": [
       "True"
      ]
     },
     "execution_count": 12,
     "metadata": {},
     "output_type": "execute_result"
    }
   ],
   "source": [
    "b'\\xb8\\xb6?G\\x7f(\\xfd/\\xc7\\xd3\\x93\\\\\\xd0\\x8f\\x95G<\\xbf\\x96^%\\x92\"h\\x9f\\xa5\\xef\\x12\\r<\\xfd\\x9e'==hashlib.sha256(\"dandan\".encode()).digest()"
   ]
  },
  {
   "cell_type": "code",
   "execution_count": 15,
   "metadata": {},
   "outputs": [
    {
     "name": "stdout",
     "output_type": "stream",
     "text": [
      "b'\\xb8\\xb6?G\\x7f(\\xfd/\\xc7\\xd3\\x93\\\\\\xd0\\x8f\\x95G<\\xbf\\x96^%\\x92\"h\\x9f\\xa5\\xef\\x12\\r<\\xfd\\x9e'\n"
     ]
    }
   ],
   "source": [
    "print(hashlib.sha256(\"dandan\".encode()).digest())"
   ]
  },
  {
   "cell_type": "code",
   "execution_count": 34,
   "metadata": {},
   "outputs": [],
   "source": [
    "from tkinter import *\n",
    "root = Tk()\n",
    "options=[\"Coke\",\"Fanta\",\"Pepsi\"]\n",
    "frame1= Frame(root)\n",
    "frame1.pack()\n",
    "itemVar = StringVar()\n",
    "Label(frame1,text=\"Item\").pack(side=LEFT)\n",
    "itemVar.set(options[1])\n",
    "OptionMenu(frame1,itemVar,*options).pack()\n",
    "\n",
    "sizes=[\"Small\",\"Medium\",\"Large\"]\n",
    "frame2= Frame(root)\n",
    "frame2.pack()\n",
    "sizesVar = StringVar()\n",
    "Label(frame2,text=\"Size\").pack(side=LEFT)\n",
    "sizesVar.set(sizes[0])\n",
    "OptionMenu(frame2,sizesVar,*sizes).pack()\n",
    "\n",
    "frame3= Frame(root)\n",
    "frame3.pack()\n",
    "qtyVar = StringVar()\n",
    "Label(frame3,text=\"Quantity\").pack(side=LEFT)\n",
    "Spinbox(frame3,from_=1,to=20).pack()\n",
    "\n",
    "frame4= Frame(root)\n",
    "frame4.pack()\n",
    "qtyVar = StringVar()\n",
    "Label(frame4,text=\"Unit Price:700\").pack(side=LEFT)\n",
    "\n",
    "frame5= Frame(root)\n",
    "frame5.pack()\n",
    "priceVar = StringVar()\n",
    "Label(frame5,text=\"Total Price:700\").pack(side=LEFT)\n",
    "\n",
    "\n",
    "\n",
    "\n",
    "\n",
    "root.mainloop()"
   ]
  },
  {
   "cell_type": "code",
   "execution_count": 38,
   "metadata": {},
   "outputs": [],
   "source": [
    "from tkinter import *\n",
    "\n",
    "def checkChanges(a,b,c):\n",
    "#     print(a)\n",
    "#     print(b)\n",
    "#     print(c)\n",
    "    print(itemVar.get())\n",
    "root = Tk()\n",
    "options=[\"Coke\",\"Fanta\",\"Pepsi\"]\n",
    "frame1= Frame(root)\n",
    "frame1.pack()\n",
    "itemVar = StringVar()\n",
    "Label(frame1,text=\"Item\").pack(side=LEFT)\n",
    "itemVar.set(options[1])\n",
    "itemVar.trace_add(\"write\",checkChanges)\n",
    "OptionMenu(frame1,itemVar,*options).pack()\n",
    "\n",
    "sizes=[\"Small\",\"Medium\",\"Large\"]\n",
    "frame2= Frame(root)\n",
    "frame2.pack()\n",
    "sizesVar = StringVar()\n",
    "Label(frame2,text=\"Size\").pack(side=LEFT)\n",
    "sizesVar.set(sizes[0])\n",
    "OptionMenu(frame2,sizesVar,*sizes).pack()\n",
    "\n",
    "frame3= Frame(root)\n",
    "frame3.pack()\n",
    "qtyVar = StringVar()\n",
    "Label(frame3,text=\"Quantity\").pack(side=LEFT)\n",
    "Spinbox(frame3,from_=1,to=20).pack()\n",
    "\n",
    "frame4= Frame(root)\n",
    "frame4.pack()\n",
    "qtyVar = StringVar()\n",
    "Label(frame4,text=\"Unit Price:700\").pack(side=LEFT)\n",
    "\n",
    "frame5= Frame(root)\n",
    "frame5.pack()\n",
    "priceVar = StringVar()\n",
    "Label(frame5,text=\"Total Price:700\").pack(side=LEFT)\n",
    "\n",
    "\n",
    "\n",
    "\n",
    "\n",
    "root.mainloop()"
   ]
  },
  {
   "cell_type": "code",
   "execution_count": 45,
   "metadata": {},
   "outputs": [
    {
     "name": "stdout",
     "output_type": "stream",
     "text": [
      "PY_VAR101\n",
      "\n",
      "write\n",
      "PY_VAR103\n",
      "Coke\n",
      "800\n"
     ]
    }
   ],
   "source": [
    "from tkinter import *\n",
    "\n",
    "prices={\"Fanta\":700,\"Coke\":800,\"Pepsi\":600}\n",
    "\n",
    "def checkChanges(a,b,c):\n",
    "    print(a)\n",
    "    print(b)\n",
    "    print(c)\n",
    "    item=itemVar.get()\n",
    "    print(qtyVar)\n",
    "    print(item)\n",
    "    print(prices[item])\n",
    "    unitPrice[\"text\"]=f\"Unit Price: {prices[item]}\"\n",
    "\n",
    "    \n",
    "root = Tk()\n",
    "options=[\"Coke\",\"Fanta\",\"Pepsi\"]\n",
    "frame1= Frame(root)\n",
    "frame1.pack()\n",
    "itemVar = StringVar()\n",
    "Label(frame1,text=\"Item\").pack(side=LEFT)\n",
    "itemVar.set(options[1])\n",
    "itemVar.trace_add(\"write\",checkChanges)\n",
    "OptionMenu(frame1,itemVar,*options).pack()\n",
    "\n",
    "sizes=[\"Small\",\"Medium\",\"Large\"]\n",
    "frame2= Frame(root)\n",
    "frame2.pack()\n",
    "sizesVar = StringVar()\n",
    "Label(frame2,text=\"Size\").pack(side=LEFT)\n",
    "sizesVar.set(sizes[0])\n",
    "OptionMenu(frame2,sizesVar,*sizes).pack()\n",
    "\n",
    "frame3= Frame(root)\n",
    "frame3.pack()\n",
    "qtyVar = StringVar()\n",
    "Label(frame3,text=\"Quantity\").pack(side=LEFT)\n",
    "qtyVar.trace_add(\"write\",checkChanges)\n",
    "Spinbox(frame3,from_=1,to=20).pack()\n",
    "\n",
    "frame4= Frame(root)\n",
    "frame4.pack()\n",
    "\n",
    "unitPrice=Label(frame4,text=\"Unit Price:700\")\n",
    "unitPrice.pack(side=LEFT)\n",
    "\n",
    "frame5= Frame(root)\n",
    "frame5.pack()\n",
    "priceVar = StringVar()\n",
    "Label(frame5,text=\"Total Price:700\").pack(side=LEFT)\n",
    "\n",
    "\n",
    "\n",
    "\n",
    "\n",
    "root.mainloop()"
   ]
  },
  {
   "cell_type": "code",
   "execution_count": 54,
   "metadata": {},
   "outputs": [
    {
     "name": "stdout",
     "output_type": "stream",
     "text": [
      "1\n",
      "Fanta\n",
      "700\n"
     ]
    },
    {
     "name": "stderr",
     "output_type": "stream",
     "text": [
      "Exception in Tkinter callback\n",
      "Traceback (most recent call last):\n",
      "  File \"C:\\Users\\USER\\Anaconda3\\lib\\tkinter\\__init__.py\", line 1705, in __call__\n",
      "    return self.func(*args)\n",
      "  File \"<ipython-input-54-e739bb1746c1>\", line 10, in checkChanges\n",
      "    unitPrice[\"text\"]=f\"Unit Price: {prices[item]}\"\n",
      "  File \"C:\\Users\\USER\\Anaconda3\\lib\\tkinter\\__init__.py\", line 1492, in __setitem__\n",
      "    self.configure({key: value})\n",
      "  File \"C:\\Users\\USER\\Anaconda3\\lib\\tkinter\\__init__.py\", line 1485, in configure\n",
      "    return self._configure('configure', cnf, kw)\n",
      "  File \"C:\\Users\\USER\\Anaconda3\\lib\\tkinter\\__init__.py\", line 1476, in _configure\n",
      "    self.tk.call(_flatten((self._w, cmd)) + self._options(cnf))\n",
      "_tkinter.TclError: invalid command name \".!frame4.!label\"\n"
     ]
    },
    {
     "name": "stdout",
     "output_type": "stream",
     "text": [
      "1\n",
      "Fanta\n",
      "700\n",
      "1\n",
      "Pepsi\n",
      "600\n",
      "2\n",
      "Pepsi\n",
      "600\n",
      "3\n",
      "Pepsi\n",
      "600\n",
      "4\n",
      "Pepsi\n",
      "600\n",
      "5\n",
      "Pepsi\n",
      "600\n",
      "6\n",
      "Pepsi\n",
      "600\n",
      "7\n",
      "Pepsi\n",
      "600\n",
      "8\n",
      "Pepsi\n",
      "600\n",
      "8\n",
      "Coke\n",
      "800\n",
      "8\n",
      "Fanta\n",
      "700\n",
      "7\n",
      "Fanta\n",
      "700\n",
      "6\n",
      "Fanta\n",
      "700\n",
      "5\n",
      "Fanta\n",
      "700\n",
      "4\n",
      "Fanta\n",
      "700\n",
      "5\n",
      "Fanta\n",
      "700\n",
      "6\n",
      "Fanta\n",
      "700\n",
      "7\n",
      "Fanta\n",
      "700\n",
      "8\n",
      "Fanta\n",
      "700\n",
      "9\n",
      "Fanta\n",
      "700\n",
      "10\n",
      "Fanta\n",
      "700\n",
      "9\n",
      "Fanta\n",
      "700\n",
      "8\n",
      "Fanta\n",
      "700\n",
      "7\n",
      "Fanta\n",
      "700\n",
      "6\n",
      "Fanta\n",
      "700\n",
      "5\n",
      "Fanta\n",
      "700\n",
      "4\n",
      "Fanta\n",
      "700\n",
      "3\n",
      "Fanta\n",
      "700\n",
      "2\n",
      "Fanta\n",
      "700\n",
      "1\n",
      "Fanta\n",
      "700\n",
      "1\n",
      "Fanta\n",
      "700\n",
      "1\n",
      "Fanta\n",
      "700\n",
      "1\n",
      "Fanta\n",
      "700\n",
      "2\n",
      "Fanta\n",
      "700\n",
      "3\n",
      "Fanta\n",
      "700\n",
      "4\n",
      "Fanta\n",
      "700\n",
      "3\n",
      "Fanta\n",
      "700\n",
      "2\n",
      "Fanta\n",
      "700\n",
      "1\n",
      "Fanta\n",
      "700\n",
      "1\n",
      "Fanta\n",
      "700\n",
      "1\n",
      "Fanta\n",
      "700\n",
      "1\n",
      "Fanta\n",
      "700\n",
      "1\n",
      "Fanta\n",
      "700\n",
      "1\n",
      "Pepsi\n",
      "600\n",
      "2\n",
      "Pepsi\n",
      "600\n",
      "3\n",
      "Pepsi\n",
      "600\n",
      "4\n",
      "Pepsi\n",
      "600\n",
      "5\n",
      "Pepsi\n",
      "600\n",
      "6\n",
      "Pepsi\n",
      "600\n",
      "7\n",
      "Pepsi\n",
      "600\n",
      "8\n",
      "Pepsi\n",
      "600\n",
      "9\n",
      "Pepsi\n",
      "600\n",
      "10\n",
      "Pepsi\n",
      "600\n",
      "11\n",
      "Pepsi\n",
      "600\n",
      "12\n",
      "Pepsi\n",
      "600\n",
      "13\n",
      "Pepsi\n",
      "600\n",
      "14\n",
      "Pepsi\n",
      "600\n",
      "15\n",
      "Pepsi\n",
      "600\n",
      "16\n",
      "Pepsi\n",
      "600\n",
      "17\n",
      "Pepsi\n",
      "600\n",
      "18\n",
      "Pepsi\n",
      "600\n",
      "19\n",
      "Pepsi\n",
      "600\n",
      "20\n",
      "Pepsi\n",
      "600\n",
      "20\n",
      "Pepsi\n",
      "600\n",
      "20\n",
      "Pepsi\n",
      "600\n",
      "20\n",
      "Pepsi\n",
      "600\n"
     ]
    }
   ],
   "source": [
    "from tkinter import *\n",
    "\n",
    "prices={\"Fanta\":700,\"Coke\":800,\"Pepsi\":600}\n",
    "\n",
    "def checkChanges(a,b,c):\n",
    "    item=itemVar.get()\n",
    "    print(qtyVar.get())\n",
    "    print(item)\n",
    "    print(prices[item])\n",
    "    unitPrice[\"text\"]=f\"Unit Price: {prices[item]}\"\n",
    "    totalPrice[\"text\"]=f\"Total Price: {prices[item]*qtyVar.get()}\"\n",
    "\n",
    "\n",
    "    \n",
    "root = Tk()\n",
    "options=[\"Coke\",\"Fanta\",\"Pepsi\"]\n",
    "frame1= Frame(root)\n",
    "frame1.pack()\n",
    "itemVar = StringVar()\n",
    "Label(frame1,text=\"Item\").pack(side=LEFT)\n",
    "itemVar.set(options[1])\n",
    "itemVar.trace_add(\"write\",checkChanges)\n",
    "OptionMenu(frame1,itemVar,*options).pack()\n",
    "\n",
    "sizes=[\"Small\",\"Medium\",\"Large\"]\n",
    "frame2= Frame(root)\n",
    "frame2.pack()\n",
    "sizesVar = StringVar()\n",
    "Label(frame2,text=\"Size\").pack(side=LEFT)\n",
    "sizesVar.set(sizes[0])\n",
    "OptionMenu(frame2,sizesVar,*sizes).pack()\n",
    "\n",
    "frame3= Frame(root)\n",
    "frame3.pack()\n",
    "qtyVar = IntVar()\n",
    "Label(frame3,text=\"Quantity\").pack(side=LEFT)\n",
    "qtyVar.trace_add(\"write\",checkChanges)\n",
    "Spinbox(frame3,from_=1,to=20,textvariable=qtyVar).pack()\n",
    "\n",
    "frame4= Frame(root)\n",
    "frame4.pack()\n",
    "\n",
    "unitPrice=Label(frame4,text=\"Unit Price:700\")\n",
    "unitPrice.pack(side=LEFT)\n",
    "\n",
    "frame5= Frame(root)\n",
    "frame5.pack()\n",
    "priceVar = StringVar()\n",
    "totalPrice=Label(frame5,text=\"Total Price:700\")\n",
    "totalPrice.pack(side=LEFT)\n",
    "\n",
    "\n",
    "\n",
    "\n",
    "\n",
    "root.mainloop()"
   ]
  },
  {
   "cell_type": "code",
   "execution_count": 58,
   "metadata": {},
   "outputs": [
    {
     "name": "stdout",
     "output_type": "stream",
     "text": [
      "1\n",
      "Fanta\n",
      "700\n"
     ]
    },
    {
     "name": "stderr",
     "output_type": "stream",
     "text": [
      "Exception in Tkinter callback\n",
      "Traceback (most recent call last):\n",
      "  File \"C:\\Users\\USER\\Anaconda3\\lib\\tkinter\\__init__.py\", line 1705, in __call__\n",
      "    return self.func(*args)\n",
      "  File \"<ipython-input-58-e39779215f12>\", line 11, in checkChanges\n",
      "    unitPrice[\"text\"]=f\"Unit Price: {prices[item]}\"\n",
      "  File \"C:\\Users\\USER\\Anaconda3\\lib\\tkinter\\__init__.py\", line 1492, in __setitem__\n",
      "    self.configure({key: value})\n",
      "  File \"C:\\Users\\USER\\Anaconda3\\lib\\tkinter\\__init__.py\", line 1485, in configure\n",
      "    return self._configure('configure', cnf, kw)\n",
      "  File \"C:\\Users\\USER\\Anaconda3\\lib\\tkinter\\__init__.py\", line 1476, in _configure\n",
      "    self.tk.call(_flatten((self._w, cmd)) + self._options(cnf))\n",
      "_tkinter.TclError: invalid command name \".!frame4.!label\"\n"
     ]
    },
    {
     "name": "stdout",
     "output_type": "stream",
     "text": [
      "1\n",
      "Pepsi\n",
      "600\n",
      "1\n",
      "Coke\n",
      "800\n",
      "1\n",
      "Fanta\n",
      "700\n",
      "1\n",
      "Fant\n",
      "1\n",
      "Fan\n"
     ]
    },
    {
     "name": "stderr",
     "output_type": "stream",
     "text": [
      "Exception in Tkinter callback\n",
      "Traceback (most recent call last):\n",
      "  File \"C:\\Users\\USER\\Anaconda3\\lib\\tkinter\\__init__.py\", line 1705, in __call__\n",
      "    return self.func(*args)\n",
      "  File \"<ipython-input-58-e39779215f12>\", line 10, in checkChanges\n",
      "    print(prices[item])\n",
      "KeyError: 'Fant'\n",
      "Exception in Tkinter callback\n",
      "Traceback (most recent call last):\n",
      "  File \"C:\\Users\\USER\\Anaconda3\\lib\\tkinter\\__init__.py\", line 1705, in __call__\n",
      "    return self.func(*args)\n",
      "  File \"<ipython-input-58-e39779215f12>\", line 10, in checkChanges\n",
      "    print(prices[item])\n",
      "KeyError: 'Fan'\n"
     ]
    },
    {
     "name": "stdout",
     "output_type": "stream",
     "text": [
      "1\n",
      "Fa\n",
      "1\n",
      "F\n"
     ]
    },
    {
     "name": "stderr",
     "output_type": "stream",
     "text": [
      "Exception in Tkinter callback\n",
      "Traceback (most recent call last):\n",
      "  File \"C:\\Users\\USER\\Anaconda3\\lib\\tkinter\\__init__.py\", line 1705, in __call__\n",
      "    return self.func(*args)\n",
      "  File \"<ipython-input-58-e39779215f12>\", line 10, in checkChanges\n",
      "    print(prices[item])\n",
      "KeyError: 'Fa'\n",
      "Exception in Tkinter callback\n",
      "Traceback (most recent call last):\n",
      "  File \"C:\\Users\\USER\\Anaconda3\\lib\\tkinter\\__init__.py\", line 1705, in __call__\n",
      "    return self.func(*args)\n",
      "  File \"<ipython-input-58-e39779215f12>\", line 10, in checkChanges\n",
      "    print(prices[item])\n",
      "KeyError: 'F'\n"
     ]
    },
    {
     "name": "stdout",
     "output_type": "stream",
     "text": [
      "1\n",
      "\n"
     ]
    },
    {
     "name": "stderr",
     "output_type": "stream",
     "text": [
      "Exception in Tkinter callback\n",
      "Traceback (most recent call last):\n",
      "  File \"C:\\Users\\USER\\Anaconda3\\lib\\tkinter\\__init__.py\", line 1705, in __call__\n",
      "    return self.func(*args)\n",
      "  File \"<ipython-input-58-e39779215f12>\", line 10, in checkChanges\n",
      "    print(prices[item])\n",
      "KeyError: ''\n"
     ]
    },
    {
     "name": "stdout",
     "output_type": "stream",
     "text": [
      "1\n",
      "f\n",
      "1\n",
      "fa\n"
     ]
    },
    {
     "name": "stderr",
     "output_type": "stream",
     "text": [
      "Exception in Tkinter callback\n",
      "Traceback (most recent call last):\n",
      "  File \"C:\\Users\\USER\\Anaconda3\\lib\\tkinter\\__init__.py\", line 1705, in __call__\n",
      "    return self.func(*args)\n",
      "  File \"<ipython-input-58-e39779215f12>\", line 10, in checkChanges\n",
      "    print(prices[item])\n",
      "KeyError: 'f'\n",
      "Exception in Tkinter callback\n",
      "Traceback (most recent call last):\n",
      "  File \"C:\\Users\\USER\\Anaconda3\\lib\\tkinter\\__init__.py\", line 1705, in __call__\n",
      "    return self.func(*args)\n",
      "  File \"<ipython-input-58-e39779215f12>\", line 10, in checkChanges\n",
      "    print(prices[item])\n",
      "KeyError: 'fa'\n"
     ]
    },
    {
     "name": "stdout",
     "output_type": "stream",
     "text": [
      "1\n",
      "fan\n"
     ]
    },
    {
     "name": "stderr",
     "output_type": "stream",
     "text": [
      "Exception in Tkinter callback\n",
      "Traceback (most recent call last):\n",
      "  File \"C:\\Users\\USER\\Anaconda3\\lib\\tkinter\\__init__.py\", line 1705, in __call__\n",
      "    return self.func(*args)\n",
      "  File \"<ipython-input-58-e39779215f12>\", line 10, in checkChanges\n",
      "    print(prices[item])\n",
      "KeyError: 'fan'\n"
     ]
    },
    {
     "name": "stdout",
     "output_type": "stream",
     "text": [
      "1\n",
      "fant\n"
     ]
    },
    {
     "name": "stderr",
     "output_type": "stream",
     "text": [
      "Exception in Tkinter callback\n",
      "Traceback (most recent call last):\n",
      "  File \"C:\\Users\\USER\\Anaconda3\\lib\\tkinter\\__init__.py\", line 1705, in __call__\n",
      "    return self.func(*args)\n",
      "  File \"<ipython-input-58-e39779215f12>\", line 10, in checkChanges\n",
      "    print(prices[item])\n",
      "KeyError: 'fant'\n"
     ]
    },
    {
     "name": "stdout",
     "output_type": "stream",
     "text": [
      "1\n",
      "fanta\n"
     ]
    },
    {
     "name": "stderr",
     "output_type": "stream",
     "text": [
      "Exception in Tkinter callback\n",
      "Traceback (most recent call last):\n",
      "  File \"C:\\Users\\USER\\Anaconda3\\lib\\tkinter\\__init__.py\", line 1705, in __call__\n",
      "    return self.func(*args)\n",
      "  File \"<ipython-input-58-e39779215f12>\", line 10, in checkChanges\n",
      "    print(prices[item])\n",
      "KeyError: 'fanta'\n"
     ]
    },
    {
     "name": "stdout",
     "output_type": "stream",
     "text": [
      "1\n",
      "\n",
      "1\n",
      "C\n",
      "1\n",
      "Co\n"
     ]
    },
    {
     "name": "stderr",
     "output_type": "stream",
     "text": [
      "Exception in Tkinter callback\n",
      "Traceback (most recent call last):\n",
      "  File \"C:\\Users\\USER\\Anaconda3\\lib\\tkinter\\__init__.py\", line 1705, in __call__\n",
      "    return self.func(*args)\n",
      "  File \"<ipython-input-58-e39779215f12>\", line 10, in checkChanges\n",
      "    print(prices[item])\n",
      "KeyError: ''\n",
      "Exception in Tkinter callback\n",
      "Traceback (most recent call last):\n",
      "  File \"C:\\Users\\USER\\Anaconda3\\lib\\tkinter\\__init__.py\", line 1705, in __call__\n",
      "    return self.func(*args)\n",
      "  File \"<ipython-input-58-e39779215f12>\", line 10, in checkChanges\n",
      "    print(prices[item])\n",
      "KeyError: 'C'\n",
      "Exception in Tkinter callback\n",
      "Traceback (most recent call last):\n",
      "  File \"C:\\Users\\USER\\Anaconda3\\lib\\tkinter\\__init__.py\", line 1705, in __call__\n",
      "    return self.func(*args)\n",
      "  File \"<ipython-input-58-e39779215f12>\", line 10, in checkChanges\n",
      "    print(prices[item])\n",
      "KeyError: 'Co'\n"
     ]
    },
    {
     "name": "stdout",
     "output_type": "stream",
     "text": [
      "1\n",
      "Cok\n",
      "1\n",
      "Coke\n",
      "800\n"
     ]
    },
    {
     "name": "stderr",
     "output_type": "stream",
     "text": [
      "Exception in Tkinter callback\n",
      "Traceback (most recent call last):\n",
      "  File \"C:\\Users\\USER\\Anaconda3\\lib\\tkinter\\__init__.py\", line 1705, in __call__\n",
      "    return self.func(*args)\n",
      "  File \"<ipython-input-58-e39779215f12>\", line 10, in checkChanges\n",
      "    print(prices[item])\n",
      "KeyError: 'Cok'\n"
     ]
    },
    {
     "name": "stdout",
     "output_type": "stream",
     "text": [
      "1\n",
      "Pepsi\n",
      "600\n",
      "1\n",
      "Fanta\n",
      "700\n",
      "1\n",
      "Coke\n",
      "800\n",
      "1\n",
      "Pepsi\n",
      "600\n"
     ]
    }
   ],
   "source": [
    "from tkinter import *\n",
    "from tkinter import ttk\n",
    "\n",
    "prices={\"Fanta\":700,\"Coke\":800,\"Pepsi\":600}\n",
    "\n",
    "def checkChanges(a,b,c):\n",
    "    item=itemVar.get()\n",
    "    print(qtyVar.get())\n",
    "    print(item)\n",
    "    print(prices[item])\n",
    "    unitPrice[\"text\"]=f\"Unit Price: {prices[item]}\"\n",
    "    totalPrice[\"text\"]=f\"Total Price: {prices[item]*qtyVar.get()}\"\n",
    "\n",
    "\n",
    "    \n",
    "root = Tk()\n",
    "options=[\"Coke\",\"Fanta\",\"Pepsi\"]\n",
    "frame1= Frame(root)\n",
    "frame1.pack()\n",
    "itemVar = StringVar()\n",
    "Label(frame1,text=\"Item\").pack(side=LEFT)\n",
    "itemVar.set(options[1])\n",
    "itemVar.trace_add(\"write\",checkChanges)\n",
    "ttk.Combobox(frame1,values=options,textvariable=itemVar).pack()\n",
    "\n",
    "sizes=[\"Small\",\"Medium\",\"Large\"]\n",
    "frame2= Frame(root)\n",
    "frame2.pack()\n",
    "sizesVar = StringVar()\n",
    "Label(frame2,text=\"Size\").pack(side=LEFT)\n",
    "sizesVar.set(sizes[0])\n",
    "OptionMenu(frame2,sizesVar,*sizes).pack()\n",
    "\n",
    "frame3= Frame(root)\n",
    "frame3.pack()\n",
    "qtyVar = IntVar()\n",
    "Label(frame3,text=\"Quantity\").pack(side=LEFT)\n",
    "qtyVar.trace_add(\"write\",checkChanges)\n",
    "Spinbox(frame3,from_=1,to=20,textvariable=qtyVar).pack()\n",
    "\n",
    "frame4= Frame(root)\n",
    "frame4.pack()\n",
    "\n",
    "unitPrice=Label(frame4,text=\"Unit Price:700\")\n",
    "unitPrice.pack(side=LEFT)\n",
    "\n",
    "frame5= Frame(root)\n",
    "frame5.pack()\n",
    "priceVar = StringVar()\n",
    "totalPrice=Label(frame5,text=\"Total Price:700\")\n",
    "totalPrice.pack(side=LEFT)\n",
    "\n",
    "\n",
    "\n",
    "\n",
    "\n",
    "root.mainloop()"
   ]
  },
  {
   "cell_type": "code",
   "execution_count": 60,
   "metadata": {},
   "outputs": [],
   "source": [
    "class Vecor:\n",
    "    def __init__(self,x,y):\n",
    "        self.x=x\n",
    "        self.y=y"
   ]
  },
  {
   "cell_type": "code",
   "execution_count": 61,
   "metadata": {},
   "outputs": [],
   "source": [
    "v1=Vecor(3,5)"
   ]
  },
  {
   "cell_type": "code",
   "execution_count": 62,
   "metadata": {},
   "outputs": [
    {
     "data": {
      "text/plain": [
       "3"
      ]
     },
     "execution_count": 62,
     "metadata": {},
     "output_type": "execute_result"
    }
   ],
   "source": [
    "v1.x"
   ]
  },
  {
   "cell_type": "code",
   "execution_count": 63,
   "metadata": {},
   "outputs": [],
   "source": [
    "v1.x=20"
   ]
  },
  {
   "cell_type": "code",
   "execution_count": 64,
   "metadata": {},
   "outputs": [
    {
     "data": {
      "text/plain": [
       "20"
      ]
     },
     "execution_count": 64,
     "metadata": {},
     "output_type": "execute_result"
    }
   ],
   "source": [
    "v1.x"
   ]
  },
  {
   "cell_type": "code",
   "execution_count": 65,
   "metadata": {},
   "outputs": [
    {
     "data": {
      "text/plain": [
       "5"
      ]
     },
     "execution_count": 65,
     "metadata": {},
     "output_type": "execute_result"
    }
   ],
   "source": [
    "v1.y"
   ]
  },
  {
   "cell_type": "code",
   "execution_count": 67,
   "metadata": {},
   "outputs": [],
   "source": [
    "class Vecor:\n",
    "    def __init__(self,x,y):\n",
    "        self.__x=x\n",
    "        self.y=y"
   ]
  },
  {
   "cell_type": "code",
   "execution_count": 68,
   "metadata": {},
   "outputs": [],
   "source": [
    "v2=Vecor(4,5)"
   ]
  },
  {
   "cell_type": "code",
   "execution_count": 70,
   "metadata": {},
   "outputs": [
    {
     "ename": "AttributeError",
     "evalue": "'Vecor' object has no attribute 'x'",
     "output_type": "error",
     "traceback": [
      "\u001b[1;31m--------------------------------------\u001b[0m",
      "\u001b[1;31mAttributeError\u001b[0mTraceback (most recent call last)",
      "\u001b[1;32m<ipython-input-70-86ac751f5b28>\u001b[0m in \u001b[0;36m<module>\u001b[1;34m\u001b[0m\n\u001b[1;32m----> 1\u001b[1;33m \u001b[0mv2\u001b[0m\u001b[1;33m.\u001b[0m\u001b[0mx\u001b[0m\u001b[1;33m\u001b[0m\u001b[1;33m\u001b[0m\u001b[0m\n\u001b[0m",
      "\u001b[1;31mAttributeError\u001b[0m: 'Vecor' object has no attribute 'x'"
     ]
    }
   ],
   "source": [
    "v2.x"
   ]
  },
  {
   "cell_type": "code",
   "execution_count": 71,
   "metadata": {},
   "outputs": [
    {
     "ename": "AttributeError",
     "evalue": "'Vecor' object has no attribute '__x'",
     "output_type": "error",
     "traceback": [
      "\u001b[1;31m--------------------------------------\u001b[0m",
      "\u001b[1;31mAttributeError\u001b[0mTraceback (most recent call last)",
      "\u001b[1;32m<ipython-input-71-acd972cbc646>\u001b[0m in \u001b[0;36m<module>\u001b[1;34m\u001b[0m\n\u001b[1;32m----> 1\u001b[1;33m \u001b[0mv2\u001b[0m\u001b[1;33m.\u001b[0m\u001b[0m__x\u001b[0m\u001b[1;33m\u001b[0m\u001b[1;33m\u001b[0m\u001b[0m\n\u001b[0m",
      "\u001b[1;31mAttributeError\u001b[0m: 'Vecor' object has no attribute '__x'"
     ]
    }
   ],
   "source": [
    "v2.__x"
   ]
  },
  {
   "cell_type": "code",
   "execution_count": 76,
   "metadata": {},
   "outputs": [],
   "source": [
    "class Vecor:\n",
    "    def __init__(self,x,y):\n",
    "        self.__x=x\n",
    "        self.y=y\n",
    "    def setX(self,x):\n",
    "        self.__x=x\n",
    "    def getX(self):\n",
    "        return self.__x"
   ]
  },
  {
   "cell_type": "code",
   "execution_count": 77,
   "metadata": {},
   "outputs": [],
   "source": [
    "v4=Vecor(4,5)"
   ]
  },
  {
   "cell_type": "code",
   "execution_count": 74,
   "metadata": {},
   "outputs": [
    {
     "ename": "AttributeError",
     "evalue": "'Vecor' object has no attribute '__x'",
     "output_type": "error",
     "traceback": [
      "\u001b[1;31m--------------------------------------\u001b[0m",
      "\u001b[1;31mAttributeError\u001b[0mTraceback (most recent call last)",
      "\u001b[1;32m<ipython-input-74-17448913d94f>\u001b[0m in \u001b[0;36m<module>\u001b[1;34m\u001b[0m\n\u001b[1;32m----> 1\u001b[1;33m \u001b[0mv4\u001b[0m\u001b[1;33m.\u001b[0m\u001b[0m__x\u001b[0m\u001b[1;33m\u001b[0m\u001b[1;33m\u001b[0m\u001b[0m\n\u001b[0m",
      "\u001b[1;31mAttributeError\u001b[0m: 'Vecor' object has no attribute '__x'"
     ]
    }
   ],
   "source": [
    "v4.__x"
   ]
  },
  {
   "cell_type": "code",
   "execution_count": 75,
   "metadata": {},
   "outputs": [
    {
     "data": {
      "text/plain": [
       "4"
      ]
     },
     "execution_count": 75,
     "metadata": {},
     "output_type": "execute_result"
    }
   ],
   "source": [
    "v4.getX() ## getter"
   ]
  },
  {
   "cell_type": "code",
   "execution_count": 78,
   "metadata": {},
   "outputs": [],
   "source": [
    "v4.setX(90)"
   ]
  },
  {
   "cell_type": "code",
   "execution_count": 79,
   "metadata": {},
   "outputs": [
    {
     "data": {
      "text/plain": [
       "90"
      ]
     },
     "execution_count": 79,
     "metadata": {},
     "output_type": "execute_result"
    }
   ],
   "source": [
    "v4.getX()"
   ]
  },
  {
   "cell_type": "code",
   "execution_count": null,
   "metadata": {},
   "outputs": [],
   "source": []
  }
 ],
 "metadata": {
  "kernelspec": {
   "display_name": "Python 3 (ipykernel)",
   "language": "python",
   "name": "python3"
  },
  "language_info": {
   "codemirror_mode": {
    "name": "ipython",
    "version": 3
   },
   "file_extension": ".py",
   "mimetype": "text/x-python",
   "name": "python",
   "nbconvert_exporter": "python",
   "pygments_lexer": "ipython3",
   "version": "3.9.12"
  }
 },
 "nbformat": 4,
 "nbformat_minor": 2
}
