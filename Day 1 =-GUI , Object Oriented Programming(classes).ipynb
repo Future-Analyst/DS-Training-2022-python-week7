{
 "cells": [
  {
   "cell_type": "code",
   "execution_count": null,
   "metadata": {},
   "outputs": [],
   "source": [
    "from datetime import datetime\n",
    "\n",
    "from tkinter import *\n",
    "from tkinter import ttk\n",
    "from tkinter import messagebox\n",
    "\n",
    "def registerUser():\n",
    "    username=usernameVar.get()\n",
    "    password=hash(passwordVar.get())\n",
    "    confirnPass=hash(conPasswordVar.get())\n",
    "    phone=phoneVar.get()\n",
    "    if password!=confirnPass:\n",
    "        messagebox.showerror(\"Password Error!\",\"Passwrd and confirm Password must match!!\")\n",
    "        print(\"Passwrd and confirm Password must match!!\")\n",
    "    else:\n",
    "        with open(\"users.txt\",\"r\") as file1:\n",
    "            myUsers=file1.readlines()\n",
    "        print(myUsers)\n",
    "        for user in myUsers:\n",
    "            myUsername=user.split(\",\")[0]\n",
    "            if myUsername==username:\n",
    "                messagebox.showerror(\"Duplicate\",\"Username already Exists\")\n",
    "                return \n",
    "        \n",
    "        file = open(\"users.txt\",\"a\")\n",
    "        date=datetime.now()\n",
    "        content=f\"{username},{password},{phone},{date}\\n\"\n",
    "        file.write(content)\n",
    "        file.close()\n",
    "        messagebox.showinfo(\"Success\",\"Your account has been created!\")\n",
    "\n",
    "\n",
    "def createAccount():\n",
    "    global passwordVar,conPasswordVar,usernameVar,phoneVar\n",
    "    new_window1=Toplevel()\n",
    "    new_window1.geometry(f\"{screen_width}x{screen_height}\")\n",
    "    lb1=LabelFrame(new_window1,text=\"Create Account\",bd=12,relief=\"ridge\")\n",
    "    lb1.pack()\n",
    "\n",
    "    Label(lb1,text=\"Username\").grid(row=1,column=1)\n",
    "    usernameVar=StringVar()\n",
    "    Entry(lb1,textvariable=usernameVar).grid(row=1,column=2)\n",
    "\n",
    "    Label(lb1,text=\"Password\").grid(row=2,column=1)\n",
    "    passwordVar=StringVar()\n",
    "    Entry(lb1,textvariable=passwordVar,show=\"*\").grid(row=2,column=2)\n",
    "    \n",
    "    Label(lb1,text=\"Confirm Password\").grid(row=3,column=1)\n",
    "    conPasswordVar=StringVar()\n",
    "    Entry(lb1,textvariable=conPasswordVar,show=\"*\").grid(row=3,column=2)\n",
    "    \n",
    "    Label(lb1,text=\"Phone\").grid(row=4,column=1)\n",
    "    phoneVar=StringVar()\n",
    "    Entry(lb1,textvariable=phoneVar).grid(row=4,column=2)\n",
    "\n",
    "    ttk.Button(lb1,\n",
    "               text=\"Create Account\",\n",
    "               command=registerUser).grid(row=5,column=1,columnspan=2)\n",
    "\n",
    "    Label(lb1,text=\"Have an account?\").grid(row=6,column=1)\n",
    "    ttk.Button(lb1,text=\"Login\",\n",
    "               command=createAccount\n",
    "              ).grid(row=6,column=2)\n",
    "\n",
    "    \n",
    "    \n",
    "master = Tk()\n",
    "screen_width = master.winfo_screenwidth()\n",
    "screen_height = master.winfo_screenheight()\n",
    "master.geometry(f\"{screen_width}x{screen_height}\")\n",
    "Label(master,text=\"Point Of Sale\",\n",
    "      font=\"courier 30 bold\",\n",
    "      bd=7,relief=\"raised\").pack(ipady=6,ipadx=6)\n",
    "\n",
    "lb=LabelFrame(master,text=\"Login\",bd=12,relief=\"ridge\")\n",
    "lb.pack()\n",
    "\n",
    "Label(lb,text=\"Username\").grid(row=1,column=1)\n",
    "\n",
    "Entry(lb).grid(row=1,column=2)\n",
    "\n",
    "Label(lb,text=\"Password\").grid(row=2,column=1)\n",
    "Entry(lb).grid(row=2,column=2)\n",
    "\n",
    "ttk.Button(lb,text=\"Login\").grid(row=3,column=1,columnspan=2)\n",
    "\n",
    "\n",
    "ttk.Button(lb,text=\"Forgot Password\").grid(row=4,column=1,columnspan=2)\n",
    "\n",
    "\n",
    "Label(lb,text=\"Don't have an account?\").grid(row=5,column=1)\n",
    "ttk.Button(lb,text=\"Create Account\",\n",
    "           command=createAccount\n",
    "          ).grid(row=5,column=2)\n",
    "\n",
    "\n",
    "\n",
    "\n",
    "master.mainloop()\n"
   ]
  },
  {
   "cell_type": "code",
   "execution_count": 1,
   "metadata": {},
   "outputs": [
    {
     "ename": "FileNotFoundError",
     "evalue": "[Errno 2] No such file or directory: 'users.txt'",
     "output_type": "error",
     "traceback": [
      "\u001b[1;31m---------------------------------------------------------------------------\u001b[0m",
      "\u001b[1;31mFileNotFoundError\u001b[0m                         Traceback (most recent call last)",
      "\u001b[1;32m<ipython-input-1-bae48dcde288>\u001b[0m in \u001b[0;36m<module>\u001b[1;34m\u001b[0m\n\u001b[1;32m----> 1\u001b[1;33m \u001b[1;32mwith\u001b[0m \u001b[0mopen\u001b[0m\u001b[1;33m(\u001b[0m\u001b[1;34m\"users.txt\"\u001b[0m\u001b[1;33m)\u001b[0m \u001b[1;32mas\u001b[0m \u001b[0mfile\u001b[0m\u001b[1;33m:\u001b[0m\u001b[1;33m\u001b[0m\u001b[1;33m\u001b[0m\u001b[0m\n\u001b[0m\u001b[0;32m      2\u001b[0m     \u001b[0mprint\u001b[0m\u001b[1;33m(\u001b[0m\u001b[0mfile\u001b[0m\u001b[1;33m.\u001b[0m\u001b[0mreadlines\u001b[0m\u001b[1;33m(\u001b[0m\u001b[1;33m)\u001b[0m\u001b[1;33m)\u001b[0m\u001b[1;33m\u001b[0m\u001b[1;33m\u001b[0m\u001b[0m\n",
      "\u001b[1;31mFileNotFoundError\u001b[0m: [Errno 2] No such file or directory: 'users.txt'"
     ]
    }
   ],
   "source": [
    "with open(\"users.txt\") as file:\n",
    "    print(file.readlines())"
   ]
  },
  {
   "cell_type": "code",
   "execution_count": 2,
   "metadata": {},
   "outputs": [
    {
     "name": "stdout",
     "output_type": "stream",
     "text": [
      "No such file Exists\n"
     ]
    }
   ],
   "source": [
    "try:\n",
    "    \n",
    "    with open(\"users.txt\") as file:\n",
    "        print(file.readlines())\n",
    "except FileNotFoundError:\n",
    "    print(\"No such file Exists\")"
   ]
  },
  {
   "cell_type": "code",
   "execution_count": 27,
   "metadata": {},
   "outputs": [
    {
     "name": "stdout",
     "output_type": "stream",
     "text": [
      "['Smith,Smart,0816534422,2022-03-02 10:40:53.586016\\n', 'Mathew,King,0816534674,2022-03-02 10:41:57.243747\\n', ',3862183302716160612,,2022-03-02 10:54:49.878833\\n', 'Godwin,929500158325521685,,2022-03-02 10:56:50.480755\\n', 'Paul,3841710808827783368,97837873,2022-03-02 11:07:16.258387\\n', 'Sophia,8283099844782120356,081419519,2022-03-07 09:58:16.857001\\n']\n"
     ]
    }
   ],
   "source": [
    "try:\n",
    "    \n",
    "    with open(\"../week 6/users.txt\") as file:\n",
    "        print(file.readlines())\n",
    "except FileNotFoundError:\n",
    "    print(\"No such file Exists\")"
   ]
  },
  {
   "cell_type": "code",
   "execution_count": 1,
   "metadata": {},
   "outputs": [],
   "source": [
    "from datetime import datetime\n",
    "\n",
    "from tkinter import *\n",
    "from tkinter import ttk\n",
    "from tkinter import messagebox\n",
    "\n",
    "def registerUser():\n",
    "    username=usernameVar.get()\n",
    "    password=hash(passwordVar.get())\n",
    "    confirnPass=hash(conPasswordVar.get())\n",
    "    phone=phoneVar.get()\n",
    "    if password!=confirnPass:\n",
    "        messagebox.showerror(\"Password Error!\",\"Passwrd and confirm Password must match!!\")\n",
    "        print(\"Passwrd and confirm Password must match!!\")\n",
    "    else:\n",
    "        with open(\"users.txt\",\"r\") as file1:\n",
    "            myUsers=file1.readlines()\n",
    "        print(myUsers)\n",
    "        for user in myUsers:\n",
    "            myUsername=user.split(\",\")[0]\n",
    "            if myUsername==username:\n",
    "                messagebox.showerror(\"Duplicate\",\"Username already Exists\")\n",
    "                return \n",
    "        \n",
    "        file = open(\"users.txt\",\"a\")\n",
    "        date=datetime.now()\n",
    "        content=f\"{username},{password},{phone},{date}\\n\"\n",
    "        file.write(content)\n",
    "        file.close()\n",
    "        messagebox.showinfo(\"Success\",\"Your account has been created!\")\n",
    "\n",
    "\n",
    "def createAccount():\n",
    "    global passwordVar,conPasswordVar,usernameVar,phoneVar\n",
    "    new_window1=Toplevel()\n",
    "    new_window1.geometry(f\"{screen_width}x{screen_height}\")\n",
    "    lb1=LabelFrame(new_window1,text=\"Create Account\",bd=12,relief=\"ridge\")\n",
    "    lb1.pack()\n",
    "\n",
    "    Label(lb1,text=\"Username\").grid(row=1,column=1)\n",
    "    usernameVar=StringVar()\n",
    "    Entry(lb1,textvariable=usernameVar).grid(row=1,column=2)\n",
    "\n",
    "    Label(lb1,text=\"Password\").grid(row=2,column=1)\n",
    "    passwordVar=StringVar()\n",
    "    Entry(lb1,textvariable=passwordVar,show=\"*\").grid(row=2,column=2)\n",
    "    \n",
    "    Label(lb1,text=\"Confirm Password\").grid(row=3,column=1)\n",
    "    conPasswordVar=StringVar()\n",
    "    Entry(lb1,textvariable=conPasswordVar,show=\"*\").grid(row=3,column=2)\n",
    "    \n",
    "    Label(lb1,text=\"Phone\").grid(row=4,column=1)\n",
    "    phoneVar=StringVar()\n",
    "    Entry(lb1,textvariable=phoneVar).grid(row=4,column=2)\n",
    "\n",
    "    ttk.Button(lb1,\n",
    "               text=\"Create Account\",\n",
    "               command=registerUser).grid(row=5,column=1,columnspan=2)\n",
    "\n",
    "    Label(lb1,text=\"Have an account?\").grid(row=6,column=1)\n",
    "    ttk.Button(lb1,text=\"Login\",\n",
    "               command=createAccount\n",
    "              ).grid(row=6,column=2)\n",
    "def logUser():\n",
    "    username = usernameLog.get()\n",
    "    password = passwordLog.get()\n",
    "    with open(\"../week 6/users.txt\") as file:\n",
    "        content= file.readlines()\n",
    "    for user in content:\n",
    "        user_list= user.strip().split(\",\")\n",
    "        if username==user_list[0]:\n",
    "            print(\"found\")\n",
    "            if(hash(password)==user_list[1]):\n",
    "                messagebox.showinfo(\"Login\",\"Success\")\n",
    "                return\n",
    "             \n",
    "        else:\n",
    "            messagebox.showerror(\"Error\",\"Invalid username or password\")\n",
    "\n",
    "    \n",
    "\n",
    "    \n",
    "    \n",
    "master = Tk()\n",
    "screen_width = master.winfo_screenwidth()\n",
    "screen_height = master.winfo_screenheight()\n",
    "master.geometry(f\"{screen_width}x{screen_height}\")\n",
    "Label(master,text=\"Point Of Sale\",\n",
    "      font=\"courier 30 bold\",\n",
    "      bd=7,relief=\"raised\").pack(ipady=6,ipadx=6)\n",
    "\n",
    "lb=LabelFrame(master,text=\"Login\",bd=12,relief=\"ridge\")\n",
    "lb.pack()\n",
    "\n",
    "usernameLog=StringVar()\n",
    "Label(lb,text=\"Username\").grid(row=1,column=1)\n",
    "\n",
    "Entry(lb,textvariable=usernameLog).grid(row=1,column=2)\n",
    "\n",
    "Label(lb,text=\"Password\").grid(row=2,column=1)\n",
    "passwordLog=StringVar()\n",
    "Entry(lb,textvariable=passwordLog).grid(row=2,column=2)\n",
    "\n",
    "ttk.Button(lb,text=\"Login\",command=logUser).grid(row=3,column=1,columnspan=2)\n",
    "\n",
    "\n",
    "ttk.Button(lb,text=\"Forgot Password\").grid(row=4,column=1,columnspan=2)\n",
    "\n",
    "\n",
    "Label(lb,text=\"Don't have an account?\").grid(row=5,column=1)\n",
    "ttk.Button(lb,text=\"Create Account\",\n",
    "           command=createAccount\n",
    "          ).grid(row=5,column=2)\n",
    "\n",
    "\n",
    "\n",
    "\n",
    "master.mainloop()\n"
   ]
  },
  {
   "cell_type": "code",
   "execution_count": 19,
   "metadata": {},
   "outputs": [
    {
     "name": "stdout",
     "output_type": "stream",
     "text": [
      "found\n"
     ]
    }
   ],
   "source": [
    "u=[2,4,5,5,3]\n",
    "for i in u:\n",
    "    if i==5:\n",
    "        print(\"found\")\n",
    "        break\n",
    "else:\n",
    "    print(\"Done\")"
   ]
  },
  {
   "cell_type": "code",
   "execution_count": 2,
   "metadata": {},
   "outputs": [],
   "source": [
    "from datetime import datetime\n",
    "\n",
    "from tkinter import *\n",
    "from tkinter import ttk\n",
    "from tkinter import messagebox\n",
    "\n",
    "def registerUser():\n",
    "    username=usernameVar.get()\n",
    "    password=hash(passwordVar.get())\n",
    "    confirnPass=hash(conPasswordVar.get())\n",
    "    phone=phoneVar.get()\n",
    "    if password!=confirnPass:\n",
    "        messagebox.showerror(\"Password Error!\",\"Passwrd and confirm Password must match!!\")\n",
    "        print(\"Passwrd and confirm Password must match!!\")\n",
    "    else:\n",
    "        with open(\"../week 6/users.txt\",\"r\") as file1:\n",
    "            myUsers=file1.readlines()\n",
    "        print(myUsers)\n",
    "        for user in myUsers:\n",
    "            myUsername=user.split(\",\")[0]\n",
    "            if myUsername==username:\n",
    "                messagebox.showerror(\"Duplicate\",\"Username already Exists\")\n",
    "                return \n",
    "        \n",
    "        file = open(\"../week 6/users.txt\",\"a\")\n",
    "        date=datetime.now()\n",
    "        content=f\"{username},{password},{phone},{date}\\n\"\n",
    "        file.write(content)\n",
    "        file.close()\n",
    "        messagebox.showinfo(\"Success\",\"Your account has been created!\")\n",
    "\n",
    "\n",
    "def createAccount():\n",
    "    global passwordVar,conPasswordVar,usernameVar,phoneVar\n",
    "    new_window1=Toplevel()\n",
    "    new_window1.geometry(f\"{screen_width}x{screen_height}\")\n",
    "    lb1=LabelFrame(new_window1,text=\"Create Account\",bd=12,relief=\"ridge\")\n",
    "    lb1.pack()\n",
    "\n",
    "    Label(lb1,text=\"Username\").grid(row=1,column=1)\n",
    "    usernameVar=StringVar()\n",
    "    Entry(lb1,textvariable=usernameVar).grid(row=1,column=2)\n",
    "\n",
    "    Label(lb1,text=\"Password\").grid(row=2,column=1)\n",
    "    passwordVar=StringVar()\n",
    "    Entry(lb1,textvariable=passwordVar,show=\"*\").grid(row=2,column=2)\n",
    "    \n",
    "    Label(lb1,text=\"Confirm Password\").grid(row=3,column=1)\n",
    "    conPasswordVar=StringVar()\n",
    "    Entry(lb1,textvariable=conPasswordVar,show=\"*\").grid(row=3,column=2)\n",
    "    \n",
    "    Label(lb1,text=\"Phone\").grid(row=4,column=1)\n",
    "    phoneVar=StringVar()\n",
    "    Entry(lb1,textvariable=phoneVar).grid(row=4,column=2)\n",
    "\n",
    "    ttk.Button(lb1,\n",
    "               text=\"Create Account\",\n",
    "               command=registerUser).grid(row=5,column=1,columnspan=2)\n",
    "\n",
    "    Label(lb1,text=\"Have an account?\").grid(row=6,column=1)\n",
    "    ttk.Button(lb1,text=\"Login\",\n",
    "               command=createAccount\n",
    "              ).grid(row=6,column=2)\n",
    "def dashboard():\n",
    "    myDash= Toplevel()\n",
    "    for i in [\"See Users\",\"Add Item\",\"Make Sales\"]:\n",
    "        Button(myDash,text=i).pack()\n",
    "def logUser():\n",
    "    username = usernameLog.get()\n",
    "    password = passwordLog.get()\n",
    "    print(password)\n",
    "    print(hash(password))\n",
    "    with open(\"../week 6/users.txt\") as file:\n",
    "        content= file.readlines()\n",
    "    for user in content:\n",
    "        user_list= user.strip().split(\",\")\n",
    "        if username==user_list[0]:\n",
    "            print(\"found\")\n",
    "            if hash(password)==user_list[1]:\n",
    "                messagebox.showinfo(\"Login\",\"Success\")\n",
    "                print(\"correct\")\n",
    "                dashboard()\n",
    "                return\n",
    "             \n",
    "    else:\n",
    "        messagebox.showerror(\"Error\",\"Invalid username or password\")\n",
    "\n",
    "    \n",
    "\n",
    "    \n",
    "    \n",
    "master = Tk()\n",
    "screen_width = master.winfo_screenwidth()\n",
    "screen_height = master.winfo_screenheight()\n",
    "master.geometry(f\"{screen_width}x{screen_height}\")\n",
    "Label(master,text=\"Point Of Sale\",\n",
    "      font=\"courier 30 bold\",\n",
    "      bd=7,relief=\"raised\").pack(ipady=6,ipadx=6)\n",
    "\n",
    "lb=LabelFrame(master,text=\"Login\",bd=12,relief=\"ridge\")\n",
    "lb.pack()\n",
    "\n",
    "usernameLog=StringVar()\n",
    "Label(lb,text=\"Username\").grid(row=1,column=1)\n",
    "\n",
    "Entry(lb,textvariable=usernameLog).grid(row=1,column=2)\n",
    "\n",
    "Label(lb,text=\"Password\").grid(row=2,column=1)\n",
    "passwordLog=StringVar()\n",
    "Entry(lb,textvariable=passwordLog).grid(row=2,column=2)\n",
    "\n",
    "ttk.Button(lb,text=\"Login\",command=logUser).grid(row=3,column=1,columnspan=2)\n",
    "\n",
    "\n",
    "ttk.Button(lb,text=\"Forgot Password\").grid(row=4,column=1,columnspan=2)\n",
    "\n",
    "\n",
    "Label(lb,text=\"Don't have an account?\").grid(row=5,column=1)\n",
    "ttk.Button(lb,text=\"Create Account\",\n",
    "           command=createAccount\n",
    "          ).grid(row=5,column=2)\n",
    "\n",
    "\n",
    "\n",
    "\n",
    "master.mainloop()\n"
   ]
  },
  {
   "cell_type": "code",
   "execution_count": 24,
   "metadata": {},
   "outputs": [
    {
     "data": {
      "text/plain": [
       "8283099844782120356"
      ]
     },
     "execution_count": 24,
     "metadata": {},
     "output_type": "execute_result"
    }
   ],
   "source": [
    "hash(\"Paul\")"
   ]
  },
  {
   "cell_type": "code",
   "execution_count": 28,
   "metadata": {},
   "outputs": [
    {
     "data": {
      "text/plain": [
       "8283099844782120356"
      ]
     },
     "execution_count": 28,
     "metadata": {},
     "output_type": "execute_result"
    }
   ],
   "source": [
    "8283099844782120356"
   ]
  },
  {
   "cell_type": "code",
   "execution_count": 41,
   "metadata": {},
   "outputs": [
    {
     "name": "stdout",
     "output_type": "stream",
     "text": [
      "Paul\n",
      "8283099844782120356\n",
      "found\n",
      "correct\n"
     ]
    }
   ],
   "source": [
    "from datetime import datetime\n",
    "\n",
    "from tkinter import *\n",
    "from tkinter import ttk\n",
    "from tkinter import messagebox\n",
    "\n",
    "def registerUser():\n",
    "    username=usernameVar.get()\n",
    "    password=hash(passwordVar.get())\n",
    "    confirnPass=hash(conPasswordVar.get())\n",
    "    phone=phoneVar.get()\n",
    "    if password!=confirnPass:\n",
    "        messagebox.showerror(\"Password Error!\",\"Passwrd and confirm Password must match!!\")\n",
    "        print(\"Passwrd and confirm Password must match!!\")\n",
    "    else:\n",
    "        with open(\"../week 6/users.txt\",\"r\") as file1:\n",
    "            myUsers=file1.readlines()\n",
    "        print(myUsers)\n",
    "        for user in myUsers:\n",
    "            myUsername=user.split(\",\")[0]\n",
    "            if myUsername==username:\n",
    "                messagebox.showerror(\"Duplicate\",\"Username already Exists\")\n",
    "                return \n",
    "        \n",
    "        file = open(\"../week 6/users.txt\",\"a\")\n",
    "        date=datetime.now()\n",
    "        content=f\"{username},{password},{phone},{date}\\n\"\n",
    "        file.write(content)\n",
    "        file.close()\n",
    "        messagebox.showinfo(\"Success\",\"Your account has been created!\")\n",
    "\n",
    "\n",
    "def createAccount():\n",
    "    global passwordVar,conPasswordVar,usernameVar,phoneVar\n",
    "    new_window1=Toplevel()\n",
    "    new_window1.geometry(f\"{screen_width}x{screen_height}\")\n",
    "    lb1=LabelFrame(new_window1,text=\"Create Account\",bd=12,relief=\"ridge\")\n",
    "    lb1.pack()\n",
    "\n",
    "    Label(lb1,text=\"Username\").grid(row=1,column=1)\n",
    "    usernameVar=StringVar()\n",
    "    Entry(lb1,textvariable=usernameVar).grid(row=1,column=2)\n",
    "\n",
    "    Label(lb1,text=\"Password\").grid(row=2,column=1)\n",
    "    passwordVar=StringVar()\n",
    "    Entry(lb1,textvariable=passwordVar,show=\"*\").grid(row=2,column=2)\n",
    "    \n",
    "    Label(lb1,text=\"Confirm Password\").grid(row=3,column=1)\n",
    "    conPasswordVar=StringVar()\n",
    "    Entry(lb1,textvariable=conPasswordVar,show=\"*\").grid(row=3,column=2)\n",
    "    \n",
    "    Label(lb1,text=\"Phone\").grid(row=4,column=1)\n",
    "    phoneVar=StringVar()\n",
    "    Entry(lb1,textvariable=phoneVar).grid(row=4,column=2)\n",
    "\n",
    "    ttk.Button(lb1,\n",
    "               text=\"Create Account\",\n",
    "               command=registerUser).grid(row=5,column=1,columnspan=2)\n",
    "\n",
    "    Label(lb1,text=\"Have an account?\").grid(row=6,column=1)\n",
    "    ttk.Button(lb1,text=\"Login\",\n",
    "               command=createAccount\n",
    "              ).grid(row=6,column=2)\n",
    "\n",
    "    \n",
    "def seeUsers():\n",
    "    text=Text(myDash)\n",
    "    text.grid(row=3,column=1,columnspan=2)\n",
    "    with open(\"../week 6/users.txt\") as file:\n",
    "        content= file.readlines()\n",
    "    for line in content:\n",
    "        text.insert(\"end\",line)\n",
    "def dashboard():\n",
    "    global myDash\n",
    "    myDash= Toplevel()\n",
    "    for i,item in  enumerate([\"See Users\",\"Add Item\",\"Make Sales\"]):\n",
    "        if i<2:\n",
    "            Button(myDash,text=item,command=seeUsers).grid(row=1,column=i+1)\n",
    "        else:\n",
    "            Button(myDash,text=item).grid(row=2,column=1,columnspan=2)\n",
    "def logUser():\n",
    "    username = usernameLog.get()\n",
    "    password = passwordLog.get()\n",
    "    print(password)\n",
    "    print(hash(password))\n",
    "    with open(\"../week 6/users.txt\") as file:\n",
    "        content= file.readlines()\n",
    "    for user in content:\n",
    "        user_list= user.strip().split(\",\")\n",
    "        if username==user_list[0] and str(hash(password))==user_list[1]:\n",
    "            print(\"found\")\n",
    "\n",
    "            messagebox.showinfo(\"Login\",\"Success\")\n",
    "            print(\"correct\")\n",
    "            dashboard()\n",
    "            return\n",
    "             \n",
    "    else:\n",
    "        messagebox.showerror(\"Error\",\"Invalid username or password\")\n",
    "\n",
    "    \n",
    "\n",
    "    \n",
    "    \n",
    "master = Tk()\n",
    "screen_width = master.winfo_screenwidth()\n",
    "screen_height = master.winfo_screenheight()\n",
    "master.geometry(f\"{screen_width}x{screen_height}\")\n",
    "Label(master,text=\"Point Of Sale\",\n",
    "      font=\"courier 30 bold\",\n",
    "      bd=7,relief=\"raised\").pack(ipady=6,ipadx=6)\n",
    "\n",
    "lb=LabelFrame(master,text=\"Login\",bd=12,relief=\"ridge\")\n",
    "lb.pack()\n",
    "\n",
    "usernameLog=StringVar()\n",
    "Label(lb,text=\"Username\").grid(row=1,column=1)\n",
    "\n",
    "Entry(lb,textvariable=usernameLog).grid(row=1,column=2)\n",
    "\n",
    "Label(lb,text=\"Password\").grid(row=2,column=1)\n",
    "passwordLog=StringVar()\n",
    "Entry(lb,textvariable=passwordLog).grid(row=2,column=2)\n",
    "\n",
    "ttk.Button(lb,text=\"Login\",command=logUser).grid(row=3,column=1,columnspan=2)\n",
    "\n",
    "\n",
    "ttk.Button(lb,text=\"Forgot Password\").grid(row=4,column=1,columnspan=2)\n",
    "\n",
    "\n",
    "Label(lb,text=\"Don't have an account?\").grid(row=5,column=1)\n",
    "ttk.Button(lb,text=\"Create Account\",\n",
    "           command=createAccount\n",
    "          ).grid(row=5,column=2)\n",
    "\n",
    "\n",
    "\n",
    "\n",
    "master.mainloop()\n"
   ]
  },
  {
   "cell_type": "code",
   "execution_count": 34,
   "metadata": {},
   "outputs": [
    {
     "data": {
      "text/plain": [
       "[(0, 3), (1, 4), (2, 3), (3, 4)]"
      ]
     },
     "execution_count": 34,
     "metadata": {},
     "output_type": "execute_result"
    }
   ],
   "source": [
    "list(enumerate([3,4,3,4]))"
   ]
  },
  {
   "cell_type": "code",
   "execution_count": 3,
   "metadata": {},
   "outputs": [],
   "source": [
    "from datetime import datetime\n",
    "\n",
    "from tkinter import *\n",
    "from tkinter import ttk\n",
    "from tkinter import messagebox\n",
    "\n",
    "def registerUser():\n",
    "    username=usernameVar.get()\n",
    "    password=hash(passwordVar.get())\n",
    "    confirnPass=hash(conPasswordVar.get())\n",
    "    phone=phoneVar.get()\n",
    "    if password!=confirnPass:\n",
    "        messagebox.showerror(\"Password Error!\",\"Passwrd and confirm Password must match!!\")\n",
    "        print(\"Passwrd and confirm Password must match!!\")\n",
    "    else:\n",
    "        with open(\"../week 6/users.txt\",\"r\") as file1:\n",
    "            myUsers=file1.readlines()\n",
    "        print(myUsers)\n",
    "        for user in myUsers:\n",
    "            myUsername=user.split(\",\")[0]\n",
    "            if myUsername==username:\n",
    "                messagebox.showerror(\"Duplicate\",\"Username already Exists\")\n",
    "                return \n",
    "        \n",
    "        file = open(\"../week 6/users.txt\",\"a\")\n",
    "        date=datetime.now()\n",
    "        content=f\"{username},{password},{phone},{date}\\n\"\n",
    "        file.write(content)\n",
    "        file.close()\n",
    "        messagebox.showinfo(\"Success\",\"Your account has been created!\")\n",
    "\n",
    "\n",
    "def createAccount():\n",
    "    global passwordVar,conPasswordVar,usernameVar,phoneVar\n",
    "    new_window1=Toplevel()\n",
    "    new_window1.geometry(f\"{screen_width}x{screen_height}\")\n",
    "    lb1=LabelFrame(new_window1,text=\"Create Account\",bd=12,relief=\"ridge\")\n",
    "    lb1.pack()\n",
    "\n",
    "    Label(lb1,text=\"Username\").grid(row=1,column=1)\n",
    "    usernameVar=StringVar()\n",
    "    Entry(lb1,textvariable=usernameVar).grid(row=1,column=2)\n",
    "\n",
    "    Label(lb1,text=\"Password\").grid(row=2,column=1)\n",
    "    passwordVar=StringVar()\n",
    "    Entry(lb1,textvariable=passwordVar,show=\"*\").grid(row=2,column=2)\n",
    "    \n",
    "    Label(lb1,text=\"Confirm Password\").grid(row=3,column=1)\n",
    "    conPasswordVar=StringVar()\n",
    "    Entry(lb1,textvariable=conPasswordVar,show=\"*\").grid(row=3,column=2)\n",
    "    \n",
    "    Label(lb1,text=\"Phone\").grid(row=4,column=1)\n",
    "    phoneVar=StringVar()\n",
    "    Entry(lb1,textvariable=phoneVar).grid(row=4,column=2)\n",
    "\n",
    "    ttk.Button(lb1,\n",
    "               text=\"Create Account\",\n",
    "               command=registerUser).grid(row=5,column=1,columnspan=2)\n",
    "\n",
    "    Label(lb1,text=\"Have an account?\").grid(row=6,column=1)\n",
    "    ttk.Button(lb1,text=\"Login\",\n",
    "               command=createAccount\n",
    "              ).grid(row=6,column=2)\n",
    "\n",
    "    \n",
    "def seeUsers():\n",
    "    with open(\"../week 6/users.txt\") as file:\n",
    "        content= file.readlines()\n",
    "    for line in content:\n",
    "        text.insert(\"end\",line)\n",
    "def dashboard():\n",
    "    global text\n",
    "    myDash= Toplevel()\n",
    "    for i,item in  enumerate([\"See Users\",\"Add Item\",\"Make Sales\"]):\n",
    "        if i<2:\n",
    "            Button(myDash,text=item,command=seeUsers).grid(row=1,column=i+1)\n",
    "        else:\n",
    "            Button(myDash,text=item).grid(row=2,column=1,columnspan=2)\n",
    "    text=Text(myDash) \n",
    "    text.grid(row=3,column=1,columnspan=2)\n",
    "def logUser():\n",
    "    username = usernameLog.get()\n",
    "    password = passwordLog.get()\n",
    "    print(password)\n",
    "    print(hash(password))\n",
    "    with open(\"../week 6/users.txt\") as file:\n",
    "        content= file.readlines()\n",
    "    for user in content:\n",
    "        user_list= user.strip().split(\",\")\n",
    "        if username==user_list[0] and str(hash(password))==user_list[1]:\n",
    "            print(\"found\")\n",
    "\n",
    "            messagebox.showinfo(\"Login\",\"Success\")\n",
    "            print(\"correct\")\n",
    "            dashboard()\n",
    "            return\n",
    "             \n",
    "    else:\n",
    "        messagebox.showerror(\"Error\",\"Invalid username or password\")\n",
    "\n",
    "    \n",
    "\n",
    "    \n",
    "    \n",
    "master = Tk()\n",
    "screen_width = master.winfo_screenwidth()\n",
    "screen_height = master.winfo_screenheight()\n",
    "master.geometry(f\"{screen_width}x{screen_height}\")\n",
    "Label(master,text=\"Point Of Sale\",\n",
    "      font=\"courier 30 bold\",\n",
    "      bd=7,relief=\"raised\").pack(ipady=6,ipadx=6)\n",
    "\n",
    "lb=LabelFrame(master,text=\"Login\",bd=12,relief=\"ridge\")\n",
    "lb.pack()\n",
    "\n",
    "usernameLog=StringVar()\n",
    "Label(lb,text=\"Username\").grid(row=1,column=1)\n",
    "\n",
    "Entry(lb,textvariable=usernameLog).grid(row=1,column=2)\n",
    "\n",
    "Label(lb,text=\"Password\").grid(row=2,column=1)\n",
    "passwordLog=StringVar()\n",
    "Entry(lb,textvariable=passwordLog).grid(row=2,column=2)\n",
    "\n",
    "ttk.Button(lb,text=\"Login\",command=logUser).grid(row=3,column=1,columnspan=2)\n",
    "\n",
    "\n",
    "ttk.Button(lb,text=\"Forgot Password\").grid(row=4,column=1,columnspan=2)\n",
    "\n",
    "\n",
    "Label(lb,text=\"Don't have an account?\").grid(row=5,column=1)\n",
    "ttk.Button(lb,text=\"Create Account\",\n",
    "           command=createAccount\n",
    "          ).grid(row=5,column=2)\n",
    "\n",
    "\n",
    "\n",
    "\n",
    "master.mainloop()\n"
   ]
  },
  {
   "cell_type": "markdown",
   "metadata": {},
   "source": [
    "## Classes and Object"
   ]
  },
  {
   "cell_type": "code",
   "execution_count": 44,
   "metadata": {},
   "outputs": [],
   "source": [
    "class BankAccount:\n",
    "    pass"
   ]
  },
  {
   "cell_type": "code",
   "execution_count": 45,
   "metadata": {},
   "outputs": [],
   "source": [
    "paul=BankAccount()"
   ]
  },
  {
   "cell_type": "code",
   "execution_count": 46,
   "metadata": {},
   "outputs": [
    {
     "data": {
      "text/plain": [
       "<__main__.BankAccount at 0x1f69ed96898>"
      ]
     },
     "execution_count": 46,
     "metadata": {},
     "output_type": "execute_result"
    }
   ],
   "source": [
    "paul"
   ]
  },
  {
   "cell_type": "code",
   "execution_count": 47,
   "metadata": {},
   "outputs": [],
   "source": [
    "paul.balence=1e6"
   ]
  },
  {
   "cell_type": "code",
   "execution_count": 48,
   "metadata": {},
   "outputs": [
    {
     "data": {
      "text/plain": [
       "<__main__.BankAccount at 0x1f69ed96898>"
      ]
     },
     "execution_count": 48,
     "metadata": {},
     "output_type": "execute_result"
    }
   ],
   "source": [
    "paul"
   ]
  },
  {
   "cell_type": "code",
   "execution_count": 49,
   "metadata": {},
   "outputs": [
    {
     "data": {
      "text/plain": [
       "1000000.0"
      ]
     },
     "execution_count": 49,
     "metadata": {},
     "output_type": "execute_result"
    }
   ],
   "source": [
    "paul.balence"
   ]
  },
  {
   "cell_type": "code",
   "execution_count": 50,
   "metadata": {},
   "outputs": [],
   "source": [
    "paul.acct_type=\"Current\""
   ]
  },
  {
   "cell_type": "code",
   "execution_count": 51,
   "metadata": {},
   "outputs": [
    {
     "data": {
      "text/plain": [
       "'Current'"
      ]
     },
     "execution_count": 51,
     "metadata": {},
     "output_type": "execute_result"
    }
   ],
   "source": [
    "paul.acct_type"
   ]
  },
  {
   "cell_type": "code",
   "execution_count": 52,
   "metadata": {},
   "outputs": [
    {
     "ename": "SyntaxError",
     "evalue": "can't assign to lambda (<ipython-input-52-b70a3a992b98>, line 1)",
     "output_type": "error",
     "traceback": [
      "\u001b[1;36m  File \u001b[1;32m\"<ipython-input-52-b70a3a992b98>\"\u001b[1;36m, line \u001b[1;32m1\u001b[0m\n\u001b[1;33m    paul.withdraw=lambda amount: paul.balence=paul.balence-amount\u001b[0m\n\u001b[1;37m                 ^\u001b[0m\n\u001b[1;31mSyntaxError\u001b[0m\u001b[1;31m:\u001b[0m can't assign to lambda\n"
     ]
    }
   ],
   "source": [
    "paul.withdraw=lambda amount: paul.balence=paul.balence-amount"
   ]
  },
  {
   "cell_type": "code",
   "execution_count": 57,
   "metadata": {},
   "outputs": [
    {
     "ename": "SyntaxError",
     "evalue": "can't assign to lambda (<ipython-input-57-fb3cb6a98417>, line 1)",
     "output_type": "error",
     "traceback": [
      "\u001b[1;36m  File \u001b[1;32m\"<ipython-input-57-fb3cb6a98417>\"\u001b[1;36m, line \u001b[1;32m1\u001b[0m\n\u001b[1;33m    hu=lambda amount: g=10\u001b[0m\n\u001b[1;37m      ^\u001b[0m\n\u001b[1;31mSyntaxError\u001b[0m\u001b[1;31m:\u001b[0m can't assign to lambda\n"
     ]
    }
   ],
   "source": [
    "hu=lambda amount: g=10"
   ]
  },
  {
   "cell_type": "code",
   "execution_count": 56,
   "metadata": {},
   "outputs": [
    {
     "name": "stdout",
     "output_type": "stream",
     "text": [
      "1000\n"
     ]
    }
   ],
   "source": [
    "hu(1000)"
   ]
  },
  {
   "cell_type": "code",
   "execution_count": 58,
   "metadata": {},
   "outputs": [],
   "source": [
    "class BankAccount:\n",
    "    def __init__(self,bvn,marital_status,first_name,\n",
    "                 last_name,age,init_dep):\n",
    "        self.first_name=first_name\n",
    "        self.last_name=last_name\n",
    "        self.init_dep=init_dep\n",
    "        "
   ]
  },
  {
   "cell_type": "code",
   "execution_count": 59,
   "metadata": {},
   "outputs": [],
   "source": [
    "acct1=BankAccount(73663553,\"single\",\"Boma\",\"George\",41,1000)"
   ]
  },
  {
   "cell_type": "code",
   "execution_count": 60,
   "metadata": {},
   "outputs": [
    {
     "data": {
      "text/plain": [
       "<__main__.BankAccount at 0x1f69ccd85f8>"
      ]
     },
     "execution_count": 60,
     "metadata": {},
     "output_type": "execute_result"
    }
   ],
   "source": [
    "acct1"
   ]
  },
  {
   "cell_type": "code",
   "execution_count": 61,
   "metadata": {},
   "outputs": [
    {
     "data": {
      "text/plain": [
       "'George'"
      ]
     },
     "execution_count": 61,
     "metadata": {},
     "output_type": "execute_result"
    }
   ],
   "source": [
    "acct1.last_name"
   ]
  },
  {
   "cell_type": "code",
   "execution_count": 62,
   "metadata": {},
   "outputs": [
    {
     "data": {
      "text/plain": [
       "1000"
      ]
     },
     "execution_count": 62,
     "metadata": {},
     "output_type": "execute_result"
    }
   ],
   "source": [
    "acct1.init_dep"
   ]
  },
  {
   "cell_type": "code",
   "execution_count": 63,
   "metadata": {},
   "outputs": [],
   "source": [
    "class BankAccount:\n",
    "    def __init__(self,bvn,marital_status,first_name,\n",
    "                 last_name,age,init_dep):\n",
    "        self.first_name=first_name\n",
    "        self.last_name=last_name\n",
    "        self.init_dep=init_dep\n",
    "        self.balance=init_dep\n",
    "    def withdraw(self,amount):\n",
    "        self.balance= self.balance-amount\n",
    "        "
   ]
  },
  {
   "cell_type": "code",
   "execution_count": 64,
   "metadata": {},
   "outputs": [],
   "source": [
    "acct1=BankAccount(73663553,\"single\",\"Boma\",\"George\",41,12e5)"
   ]
  },
  {
   "cell_type": "code",
   "execution_count": 65,
   "metadata": {},
   "outputs": [
    {
     "data": {
      "text/plain": [
       "1200000.0"
      ]
     },
     "execution_count": 65,
     "metadata": {},
     "output_type": "execute_result"
    }
   ],
   "source": [
    "acct1.init_dep"
   ]
  },
  {
   "cell_type": "code",
   "execution_count": 66,
   "metadata": {},
   "outputs": [
    {
     "data": {
      "text/plain": [
       "1200000.0"
      ]
     },
     "execution_count": 66,
     "metadata": {},
     "output_type": "execute_result"
    }
   ],
   "source": [
    "acct1.balance"
   ]
  },
  {
   "cell_type": "code",
   "execution_count": 67,
   "metadata": {},
   "outputs": [],
   "source": [
    "acct1.withdraw(100000)"
   ]
  },
  {
   "cell_type": "code",
   "execution_count": 68,
   "metadata": {},
   "outputs": [
    {
     "data": {
      "text/plain": [
       "1200000.0"
      ]
     },
     "execution_count": 68,
     "metadata": {},
     "output_type": "execute_result"
    }
   ],
   "source": [
    "acct1.init_dep"
   ]
  },
  {
   "cell_type": "code",
   "execution_count": 69,
   "metadata": {},
   "outputs": [
    {
     "data": {
      "text/plain": [
       "1100000.0"
      ]
     },
     "execution_count": 69,
     "metadata": {},
     "output_type": "execute_result"
    }
   ],
   "source": [
    "acct1.balance"
   ]
  },
  {
   "cell_type": "code",
   "execution_count": 6,
   "metadata": {},
   "outputs": [],
   "source": []
  },
  {
   "cell_type": "code",
   "execution_count": null,
   "metadata": {},
   "outputs": [],
   "source": []
  }
 ],
 "metadata": {
  "kernelspec": {
   "display_name": "Python 3 (ipykernel)",
   "language": "python",
   "name": "python3"
  },
  "language_info": {
   "codemirror_mode": {
    "name": "ipython",
    "version": 3
   },
   "file_extension": ".py",
   "mimetype": "text/x-python",
   "name": "python",
   "nbconvert_exporter": "python",
   "pygments_lexer": "ipython3",
   "version": "3.9.12"
  }
 },
 "nbformat": 4,
 "nbformat_minor": 2
}
